{
  "nbformat": 4,
  "nbformat_minor": 0,
  "metadata": {
    "colab": {
      "provenance": [],
      "include_colab_link": true
    },
    "kernelspec": {
      "name": "python3",
      "display_name": "Python 3"
    }
  },
  "cells": [
    {
      "cell_type": "markdown",
      "metadata": {
        "id": "view-in-github",
        "colab_type": "text"
      },
      "source": [
        "<a href=\"https://colab.research.google.com/github/marcospontoexe/PUC/blob/main/Processamento%20de%20Linguagem%20natural%20(PLN)/Atividade_somativa_2.ipynb\" target=\"_parent\"><img src=\"https://colab.research.google.com/assets/colab-badge.svg\" alt=\"Open In Colab\"/></a>"
      ]
    },
    {
      "cell_type": "markdown",
      "metadata": {
        "id": "jd0xl83ec2Qq"
      },
      "source": [
        "# Classificação de textos - Análise de Sentimentos\n",
        "## Processamento de Linguagem Natural\n",
        "Nesta aula continuaremos trabalhando com Classificação de textos, porém agora focaremos em uma tarefa específica, chamada de **Análise de Sentimentos**.\n",
        "\n",
        "O objetivo é que ao final desta aula você:\n",
        "1. Entenda o que é a **Análise de Sentimentos**\n",
        "2. Saiba treinar um classificador supervisionado para realizar análise de sentimentos usando um corpus anotado\n",
        "3. Aprenda a utilizar a biblioteca Polyglot do Python que já possui métodos para identificar polaridade de textos em português\n",
        "4. Acesse API do Twitter para obter dados em tempo real de redes sociais\n",
        "\n",
        "\n"
      ]
    },
    {
      "cell_type": "markdown",
      "metadata": {
        "id": "YsjLryLKfG_O"
      },
      "source": [
        "### **O que é a Análise de Sentimentos?**\n",
        "\n",
        "É a interpretação e classificação de emoções relativas a um texto, sendo estas emoções explícitas declaradas no texto ou implícitas.\n",
        "\n",
        "![Análise de sentimentos. Fonte: https://monkeylearn.com/sentiment-analysis/](https://docs.google.com/uc?export=download&id=1okG1oHXPhnZiBBTtpZG4b3VdaWovCndT)\n",
        "\n",
        "É uma tarefa de PLN/Machine Learning que permite empresas identificarem os sentimentos dos consumidores em relação a produtos, marcas ou serviços, através de opiniões deixadas em redes sociais ou em canais de comunicação da empresa.\n",
        "\n",
        "\n",
        "\n",
        "\n",
        "\n",
        "\n",
        "\n",
        "\n",
        "\n",
        "\n",
        "\n",
        "\n",
        "\n",
        "\n",
        "\n",
        "\n"
      ]
    },
    {
      "cell_type": "markdown",
      "metadata": {
        "id": "evmz97QofQ_f"
      },
      "source": [
        "### **Como treinar um classificador para realizar a Análise de Sentimentos?**\n",
        "Iremos desenvolver nosso classificador, utilizando uma abordagem supervisionada, ou seja, precisaremos de dados rotulados com suas respectivas emoções.\n",
        "\n",
        "O pipeline de execução é muito similar aos exemplos de classificação realizados na última semana, o que muda efetivamente são as classes/categorias envolvidas."
      ]
    },
    {
      "cell_type": "markdown",
      "metadata": {
        "id": "Pm6WttgJUVVk"
      },
      "source": [
        "#### Dados\n",
        "Para este exemplo iremos trabalhar com uma [base de dados de notícias](https://www.aclweb.org/anthology/W15-5616.pdf), rotulada com as emoções básicas de [Ekman](https://www.tandfonline.com/doi/abs/10.1080/02699939208411068): **alegria**, **tristeza**, **raiva**, **medo**, **repugnância** e **surpresa**. Em caso de ausência de emoção, a categoria **neutro** foi aplicada.\n",
        "\n",
        "\n",
        "\n",
        "> **IMPORTANTE**: Faça o upload da base de dados para seu ambiente Google Colab ou Jupyter Notebook! Segue o [link](https://drive.google.com/file/d/12-mbbvHtnDVRTbQnhmOfnIXppbQ0hoyn/view?usp=sharing) para acesso.\n",
        "\n"
      ]
    },
    {
      "cell_type": "markdown",
      "metadata": {
        "id": "ltdhOVMyY9PW"
      },
      "source": [
        "#### Fluxo de execução\n",
        "Vamos seguir o seguinte fluxo de processamento dos dados:\n",
        "\n",
        "\n",
        "1.   Abrir o corpus\n",
        "2.   Remover as stop-words\n",
        "3.   Aplicar stemmer\n",
        "4.   Gerar o Bag of Words\n",
        "5.   Treinar o modelo SVM\n",
        "6.   Predizer/Avaliar o modelo\n",
        "\n"
      ]
    },
    {
      "cell_type": "code",
      "metadata": {
        "id": "MtuY_lI4SufL"
      },
      "source": [
        "# Abre corpus\n",
        "f = open(\"analise-sentimentos-2000-noticias.txt\", \"r\", encoding=\"utf-8-sig\")\n",
        "linhas = f.readlines()\n",
        "\n",
        "corpus_textos = []\n",
        "corpus_rotulos = []\n",
        "\n",
        "# Percorre as 2000 linhas\n",
        "for linha in linhas:\n",
        "\n",
        "  # Separa texto e rótulo/categoria/emoção\n",
        "  item = linha.split(\";;\")\n",
        "\n",
        "  corpus_rotulos.append(item[0])\n",
        "  corpus_textos.append(item[1])"
      ],
      "execution_count": null,
      "outputs": []
    },
    {
      "cell_type": "code",
      "metadata": {
        "id": "AeR6Rr1wV1oG",
        "colab": {
          "base_uri": "https://localhost:8080/"
        },
        "outputId": "2c1dd79d-2ef7-4bb3-cbf2-6f2a58dcd0a7"
      },
      "source": [
        "# 5 primeiros textos\n",
        "corpus_textos[0:5]"
      ],
      "execution_count": null,
      "outputs": [
        {
          "output_type": "execute_result",
          "data": {
            "text/plain": [
              "['irã liberta viúva condenada ao apedrejamento, diz comitê internacional. a viúva iraniana sakineh mohammadi-ashtiani, condenada à morte por apedrejamento, foi libertada juntamente com o seu filho e o seu advogado, anunciou nesta quinta-feira (9) o comitê internacional contra apedrejamento, sediado na alemanha.\\n',\n",
              " 'haiti sofre com cólera depois da passagem do furacão sandy. após a passagem do furacão sandy pelo haiti, o país vive as dificuldades da reconstrução, além de problemas causados pela contaminação da bactéria que causa o cólera.\\n',\n",
              " 'mulher acorda e encontra crocodilo de 3 m e 27 ovos no jardim de casa. especialistas capturaram e transferiram animal para local adequado.\\n',\n",
              " 'enchentes causam a morte de 4 pessoas em al: vítimas são mãe, filho, idosa de 100 anos e adolescente. defesa civil da capital já registrou mais de 30 ocorrências.\\n',\n",
              " 'sem detalhes do que será discutido, revisão do plano diretor começa na segunda (17). dez oficinas, 19 audiências públicas e canal interativo serão os meios de participação popular; ippuc pretende enviar plano revisado à câmara até o início de dezembro\\n']"
            ]
          },
          "metadata": {},
          "execution_count": 2
        }
      ]
    },
    {
      "cell_type": "code",
      "metadata": {
        "id": "SAXpsd00V2vq",
        "colab": {
          "base_uri": "https://localhost:8080/"
        },
        "outputId": "ffb8d75f-f5e2-44ec-c62d-3394643a9421"
      },
      "source": [
        "# 5 primeiros rótulos\n",
        "corpus_rotulos[0:5]"
      ],
      "execution_count": null,
      "outputs": [
        {
          "output_type": "execute_result",
          "data": {
            "text/plain": [
              "['alegria', 'tristeza', 'surpresa', 'tristeza', 'neutro']"
            ]
          },
          "metadata": {},
          "execution_count": 3
        }
      ]
    },
    {
      "cell_type": "markdown",
      "metadata": {
        "id": "0YkBFj5KSumX"
      },
      "source": [
        "Em nossos exemplos de classificação anteriores, separamos parte do banco de dados para **TREINAMENTO** e outra parte para **TESTE**, nesse tipo de avaliação que chamamos de **hold-out**.\n",
        "\n",
        "Existem outras formas de realizar a avaliação, inclusive mais indicadas de acordo com a situação, mas isto não está no escopo de nossa disciplina, caso queira saber mais métodos de avaliação como o **cross-validation**, leia [este post](https://medium.com/@eijaz/holdout-vs-cross-validation-in-machine-learning-7637112d3f8f)."
      ]
    },
    {
      "cell_type": "code",
      "metadata": {
        "id": "xMh3t4S-k5iN"
      },
      "source": [
        "from sklearn.model_selection import train_test_split\n",
        "\n",
        "# O próprio sklearn tem um método para dividir a base de dados em treinamento e teste\n",
        "# Neste caso estamos deixando 90% para treinamento e 10% para testes\n",
        "corpus_treinamento, corpus_teste, rotulos_treinamento, rotulos_teste = train_test_split(corpus_textos, corpus_rotulos, test_size=0.10, random_state=42)"
      ],
      "execution_count": null,
      "outputs": []
    },
    {
      "cell_type": "code",
      "metadata": {
        "id": "DlOXBwE9l1DQ",
        "colab": {
          "base_uri": "https://localhost:8080/"
        },
        "outputId": "6426cd99-ac57-49f3-ff50-1d8ec697763e"
      },
      "source": [
        "len(corpus_treinamento)"
      ],
      "execution_count": null,
      "outputs": [
        {
          "output_type": "execute_result",
          "data": {
            "text/plain": [
              "1800"
            ]
          },
          "metadata": {},
          "execution_count": 5
        }
      ]
    },
    {
      "cell_type": "code",
      "metadata": {
        "id": "PNkXDsCzl3CK",
        "colab": {
          "base_uri": "https://localhost:8080/"
        },
        "outputId": "0d5912e0-08bd-4977-f9f0-32981408d693"
      },
      "source": [
        "len(corpus_teste)"
      ],
      "execution_count": null,
      "outputs": [
        {
          "output_type": "execute_result",
          "data": {
            "text/plain": [
              "200"
            ]
          },
          "metadata": {},
          "execution_count": 6
        }
      ]
    },
    {
      "cell_type": "code",
      "metadata": {
        "id": "0k8IhkJhl3F8",
        "colab": {
          "base_uri": "https://localhost:8080/"
        },
        "outputId": "bfeccb0a-3cdf-4009-cb52-d50878e1bb6e"
      },
      "source": [
        "len(rotulos_treinamento)"
      ],
      "execution_count": null,
      "outputs": [
        {
          "output_type": "execute_result",
          "data": {
            "text/plain": [
              "1800"
            ]
          },
          "metadata": {},
          "execution_count": 7
        }
      ]
    },
    {
      "cell_type": "code",
      "metadata": {
        "id": "Z5jSA7_Ql3Jo",
        "colab": {
          "base_uri": "https://localhost:8080/"
        },
        "outputId": "bc7648ef-472b-4eec-c01d-7b9a2702dc4c"
      },
      "source": [
        "len(rotulos_teste)"
      ],
      "execution_count": null,
      "outputs": [
        {
          "output_type": "execute_result",
          "data": {
            "text/plain": [
              "200"
            ]
          },
          "metadata": {},
          "execution_count": 8
        }
      ]
    },
    {
      "cell_type": "markdown",
      "metadata": {
        "id": "AbSXzp5fvFk3"
      },
      "source": [
        "Vamos deixar preparada uma função para pré-processar os textos, utilizando uma lista de stop-words com novos itens, o stemming e normalização dos textos."
      ]
    },
    {
      "cell_type": "code",
      "metadata": {
        "id": "A5CAMkykvRUk",
        "colab": {
          "base_uri": "https://localhost:8080/"
        },
        "outputId": "707983e1-c8f3-4203-9490-64168e790ec7"
      },
      "source": [
        "import nltk\n",
        "from nltk import tokenize\n",
        "nltk.download('stopwords')\n",
        "nltk.download('rslp')\n",
        "nltk.download('punkt')\n",
        "\n",
        "stopwords = nltk.corpus.stopwords.words('portuguese') #carrega stopwords da lingua portuguesa disponíveis no NLTK\n",
        "stopwords += (',','.','(',')','\"',\"'\",'´','`','!','$','%','&','...','-',':',';','?','``','\\'\\'') #acrescenta simbolos\n",
        "stopwords += ('a','e','i','o','u','A','E','I','O','U') #acrescenta também vogais\n",
        "\n",
        "stemmer = nltk.stem.RSLPStemmer()\n",
        "\n",
        "def my_preprocessor(text):\n",
        "\n",
        "    # Normaliza para minúsculas\n",
        "    text=text.lower()\n",
        "\n",
        "    # Tokeniza\n",
        "    words = tokenize.word_tokenize(text, language='portuguese')\n",
        "    # Remove stop-words\n",
        "    words_no_stopwords = [word for word in words if not word in stopwords]\n",
        "    # Aplica stemming\n",
        "    stemmed_words=[stemmer.stem(word=word) for word in words_no_stopwords]\n",
        "    return ' '.join(stemmed_words)"
      ],
      "execution_count": null,
      "outputs": [
        {
          "output_type": "stream",
          "name": "stdout",
          "text": [
            "[nltk_data] Downloading package stopwords to /root/nltk_data...\n",
            "[nltk_data]   Unzipping corpora/stopwords.zip.\n",
            "[nltk_data] Downloading package rslp to /root/nltk_data...\n",
            "[nltk_data]   Unzipping stemmers/rslp.zip.\n",
            "[nltk_data] Downloading package punkt to /root/nltk_data...\n",
            "[nltk_data]   Unzipping tokenizers/punkt.zip.\n"
          ]
        }
      ]
    },
    {
      "cell_type": "markdown",
      "metadata": {
        "id": "6HnBLMGtmxNm"
      },
      "source": [
        "Agora vamos extrair os atributos do texto (gerar a representação vetorial - bag of words) e criar nosso pipeline de classificação usando o classificador SVM."
      ]
    },
    {
      "cell_type": "code",
      "metadata": {
        "id": "20ZDBuVTmxbU"
      },
      "source": [
        "from sklearn.pipeline import Pipeline\n",
        "from sklearn.svm import SVC\n",
        "from sklearn.feature_extraction.text import CountVectorizer\n",
        "\n",
        "# Primeiro aplica o BoW, depois envia dados ao classificador SVM\n",
        "# (SEM retirada de stop-words e stemming)\n",
        "sent_clf = Pipeline([('vect', CountVectorizer()),('clf', SVC(kernel='linear', C=1))])\n",
        "\n",
        "# Depois de executar uma vez, verifique os resultados e compare-os depois de descomentar a linha abaixo, onde retiramos as stop-words e aplicamos stemming\n",
        "# (COM retirada de stop-words e stemming)\n",
        "#sent_clf = Pipeline([('vect', CountVectorizer(preprocessor = my_preprocessor)),('clf', SVC(kernel='linear', C=1))])"
      ],
      "execution_count": null,
      "outputs": []
    },
    {
      "cell_type": "code",
      "metadata": {
        "id": "OcUiVr1exebT"
      },
      "source": [
        "# Inicia treinamento\n",
        "sent_clf = sent_clf.fit(corpus_treinamento, rotulos_treinamento)"
      ],
      "execution_count": null,
      "outputs": []
    },
    {
      "cell_type": "markdown",
      "metadata": {
        "id": "UJ6nzypDoHTX"
      },
      "source": [
        "Já temos nosso modelo treinado! Agora vamos predizer a base de teste e avaliar os resultados."
      ]
    },
    {
      "cell_type": "code",
      "metadata": {
        "id": "dNSFAIiYoHdD"
      },
      "source": [
        "# Prediz base de teste\n",
        "rotulos_preditos = sent_clf.predict(corpus_teste)"
      ],
      "execution_count": null,
      "outputs": []
    },
    {
      "cell_type": "code",
      "metadata": {
        "id": "6FxFWGaBoZ_w",
        "colab": {
          "base_uri": "https://localhost:8080/"
        },
        "outputId": "6023d916-1bbb-4a6c-d23c-eeeadad8af86"
      },
      "source": [
        "from sklearn.metrics import classification_report\n",
        "\n",
        "# Mostra relatório completo de avaliação\n",
        "print(classification_report(rotulos_teste, rotulos_preditos))"
      ],
      "execution_count": null,
      "outputs": [
        {
          "output_type": "stream",
          "name": "stdout",
          "text": [
            "              precision    recall  f1-score   support\n",
            "\n",
            "     alegria       0.00      0.00      0.00        19\n",
            "    desgosto       0.44      0.26      0.33        27\n",
            "        medo       0.32      0.39      0.35        18\n",
            "      neutro       0.52      0.73      0.61        51\n",
            "       raiva       0.29      0.29      0.29         7\n",
            "    surpresa       0.42      0.47      0.44        32\n",
            "    tristeza       0.66      0.59      0.62        46\n",
            "\n",
            "    accuracy                           0.48       200\n",
            "   macro avg       0.38      0.39      0.38       200\n",
            "weighted avg       0.45      0.47      0.45       200\n",
            "\n"
          ]
        }
      ]
    },
    {
      "cell_type": "code",
      "metadata": {
        "id": "qRQDI8b9oaFe",
        "colab": {
          "base_uri": "https://localhost:8080/",
          "height": 611
        },
        "outputId": "b2deaad5-c2a1-4258-bbd6-53a07d5d4c38"
      },
      "source": [
        "from sklearn.metrics import confusion_matrix\n",
        "\n",
        "# Podemos imprimir a matriz de confusão para tentar entender melhor os resultados\n",
        "mat = confusion_matrix(rotulos_teste, rotulos_preditos)\n",
        "\n",
        "%matplotlib inline\n",
        "import matplotlib.pyplot as plt\n",
        "import seaborn as sns; sns.set()\n",
        "\n",
        "rotulos_nomes = ['alegria', 'desgosto', 'medo', 'neutro', 'raiva', 'surpresa', 'tristeza']\n",
        "\n",
        "fig, ax = plt.subplots(figsize=(10,10))\n",
        "sns.heatmap(mat.T, square=True, annot=True, fmt='d', cbar=False, xticklabels=rotulos_nomes, yticklabels=rotulos_nomes )\n",
        "plt.xlabel('Categoria verdadeira')\n",
        "plt.ylabel('Categoria predita');"
      ],
      "execution_count": null,
      "outputs": [
        {
          "output_type": "display_data",
          "data": {
            "text/plain": [
              "<Figure size 720x720 with 1 Axes>"
            ],
            "image/png": "[encoded data removed]"
          },
          "metadata": {}
        }
      ]
    },
    {
      "cell_type": "markdown",
      "metadata": {
        "id": "VJGxMMVTz6lJ"
      },
      "source": [
        "> **CONCLUSÃO**: Apesar de verificarmos melhoria ao pré-processarmos o texto, os resultados ainda são regulares."
      ]
    },
    {
      "cell_type": "markdown",
      "metadata": {
        "id": "hdC8Pnkc1JsW"
      },
      "source": [
        "#### **Atividade Somativa 2 - Como podemos tentar melhorar os resultados?**\n",
        "\n",
        "**1) Redução da granularidade dos sentimentos**\n",
        "Como podemos ver na matriz de confusão o classificador tem vários pontos de erro, em todas emoções. E se modificarmos o corpus para ao invés de 7 emoções, trabalhar com as 3 clássicas (positivo, neutro, negativo)?\n",
        "\n",
        "Vamos então adotar a seguinte sistemática de atualização da base de dados:\n",
        "\n",
        "A classe \"**positivo**\" será obtida utilizando-se as instâncias da base original rotuladas como \"alegria\".\n",
        "\n",
        "A classe \"**negativo**\" será obtida utilizando-se as instâncias rotuladas como \"raiva\", \"medo\", \"desgosto\" e \"tristeza\".\n",
        "\n",
        "Já a classe \"**neutro**\", utilizará as instâncias da base original rotuladas como \"neutro\".\n",
        "\n",
        "As instâncias rotuladas como \"surpresa\" não serão utilizadas.\n",
        "\n",
        "Crie um novo arquivo para esta base de dados atualizada, carregue-o em nosso notebook e compare os resultados.\n",
        "\n",
        "**2) Configuração dos parâmetros de extração de atributos e do classificador**\n",
        "Altere a configuração de pelo menos um atributo gerado pela vetorização das palavras (i.e., CountVectorizer) e também pelo classificador utilizado.\n",
        "\n",
        "**3) Adicione novas etapas de extração de atributos ou de pré-processamento**\n",
        "Incorpore ao menos uma nova etapa de pré-processamento ou extração de atributos (e.g., TF-IDF) ao pipeline atual.\n",
        "\n",
        "**4) Utilize outro classificador de texto**\n",
        "Treine ao menos um novo modelo utilizando um classificador de textos diferentes. Ele pode pertencer à biblbioteca sklearn ou qualquer outra.\n",
        "\n"
      ]
    },
    {
      "cell_type": "markdown",
      "metadata": {
        "id": "dRk7ES50JJca"
      },
      "source": [
        "### **Existe alguma ferramenta pronta que realize análise de sentimentos?**\n",
        "Não é sempre que teremos um corpus anotado para utilizar em nossas tarefas, neste caso, existem bibliotecas que incorporam funcionalidades simples que podem ser usadas para detectar a polaridade de textos (negativo, positivo).\n",
        "\n",
        "No caso da língua portuguesa, a [Polyglot](https://polyglot.readthedocs.io/en/latest/index.html) tem um léxico de polaridade das palavras, que pode ser usado para detecção simples de sentimentos."
      ]
    },
    {
      "cell_type": "code",
      "metadata": {
        "id": "TmDJ2orVDM8C",
        "colab": {
          "base_uri": "https://localhost:8080/",
          "height": 886
        },
        "outputId": "535de1a8-352f-4e4d-b7ba-287000d71ed4"
      },
      "source": [
        "# Ela tem algumas dependências que devem ser instaladas\n",
        "!pip install -U git+https://github.com/aboSamoor/polyglot.git@master"
      ],
      "execution_count": null,
      "outputs": [
        {
          "output_type": "stream",
          "name": "stdout",
          "text": [
            "Collecting git+https://github.com/aboSamoor/polyglot.git@master\n",
            "  Cloning https://github.com/aboSamoor/polyglot.git (to revision master) to /tmp/pip-req-build-4pq72zya\n",
            "  Running command git clone -q https://github.com/aboSamoor/polyglot.git /tmp/pip-req-build-4pq72zya\n",
            "Collecting morfessor>=2.0.2a1\n",
            "  Downloading Morfessor-2.0.6-py3-none-any.whl (35 kB)\n",
            "Collecting pycld2>=0.3\n",
            "  Downloading pycld2-0.41.tar.gz (41.4 MB)\n",
            "\u001b[K     |████████████████████████████████| 41.4 MB 1.3 MB/s \n",
            "\u001b[?25hRequirement already satisfied: wheel>=0.23.0 in /usr/local/lib/python3.7/dist-packages (from polyglot==16.7.4) (0.37.1)\n",
            "Collecting PyICU>=1.8\n",
            "  Downloading PyICU-2.8.1.tar.gz (304 kB)\n",
            "\u001b[K     |████████████████████████████████| 304 kB 42.7 MB/s \n",
            "\u001b[?25h  Installing build dependencies ... \u001b[?25l\u001b[?25hdone\n",
            "  Getting requirements to build wheel ... \u001b[?25l\u001b[?25hdone\n",
            "    Preparing wheel metadata ... \u001b[?25l\u001b[?25hdone\n",
            "Requirement already satisfied: six>=1.7.3 in /usr/local/lib/python3.7/dist-packages (from polyglot==16.7.4) (1.15.0)\n",
            "Collecting futures>=2.1.6\n",
            "  Downloading futures-3.0.5.tar.gz (25 kB)\n",
            "\u001b[33mWARNING: Discarding https://files.pythonhosted.org/packages/55/db/97c1ca37edab586a1ae03d6892b6633d8eaa23b23ac40c7e5bbc55423c78/futures-3.0.5.tar.gz#sha256=0542525145d5afc984c88f914a0c85c77527f65946617edb5274f72406f981df (from https://pypi.org/simple/futures/). Command errored out with exit status 1: python setup.py egg_info Check the logs for full command output.\u001b[0m\n",
            "  Downloading futures-3.0.4.tar.gz (25 kB)\n",
            "\u001b[33mWARNING: Discarding https://files.pythonhosted.org/packages/8d/73/b5fff618482bc06c9711e7cdc0d5d7eb1904d35898f48f2d7f9696b08bef/futures-3.0.4.tar.gz#sha256=19485d83f7bd2151c0aeaf88fbba3ee50dadfb222ffc3b66a344ef4952b782a3 (from https://pypi.org/simple/futures/). Command errored out with exit status 1: python setup.py egg_info Check the logs for full command output.\u001b[0m\n",
            "  Downloading futures-3.0.3.tar.gz (24 kB)\n",
            "\u001b[33mWARNING: Discarding https://files.pythonhosted.org/packages/4c/dc/f9473006d4c9c52d4a4e977173fbcbfb1a8ef3a57e32e885edf994fd4a45/futures-3.0.3.tar.gz#sha256=2fe2342bb4fe8b8e217f0d21b5921cbe5408bf966d9f92025e707e881b198bed (from https://pypi.org/simple/futures/). Command errored out with exit status 1: python setup.py egg_info Check the logs for full command output.\u001b[0m\n",
            "  Downloading futures-3.0.2.tar.gz (24 kB)\n",
            "\u001b[33mWARNING: Discarding https://files.pythonhosted.org/packages/f8/e7/fc0fcbeb9193ba2d4de00b065e7fd5aecd0679e93ce95a07322b2b1434f4/futures-3.0.2.tar.gz#sha256=dc3fc91508e49e0fd2f8625f0132d16e49c80f882e7e1d565c56b0d5dfbae257 (from https://pypi.org/simple/futures/). Command errored out with exit status 1: python setup.py egg_info Check the logs for full command output.\u001b[0m\n",
            "  Downloading futures-3.0.1.tar.gz (24 kB)\n",
            "\u001b[33mWARNING: Discarding https://files.pythonhosted.org/packages/b2/2c/6b6a57379e47031c6f52e625e0e2b8f6702a8d1f61b6e0daee391e82c187/futures-3.0.1.tar.gz#sha256=f78f2ef458639d72a625cf9c7643cf5442bb222ac11c12bcc445c6ad1cd862e2 (from https://pypi.org/simple/futures/). Command errored out with exit status 1: python setup.py egg_info Check the logs for full command output.\u001b[0m\n",
            "  Downloading futures-3.0.0.tar.gz (24 kB)\n",
            "\u001b[33mWARNING: Discarding https://files.pythonhosted.org/packages/ea/c9/35287369718fc05059e7a9d0d73c53745fe981010b4185b3858e7d46eff1/futures-3.0.0.tar.gz#sha256=d9cd7bb09aa01f0e4940af64c31fbd7045098b7b4354420d7838ea39e8b86ee3 (from https://pypi.org/simple/futures/). Command errored out with exit status 1: python setup.py egg_info Check the logs for full command output.\u001b[0m\n",
            "  Downloading futures-2.2.0-py2.py3-none-any.whl (16 kB)\n",
            "Requirement already satisfied: numpy>=1.6.1 in /usr/local/lib/python3.7/dist-packages (from polyglot==16.7.4) (1.21.5)\n",
            "Building wheels for collected packages: polyglot, pycld2, PyICU\n",
            "  Building wheel for polyglot (setup.py) ... \u001b[?25l\u001b[?25hdone\n",
            "  Created wheel for polyglot: filename=polyglot-16.7.4-py2.py3-none-any.whl size=70672 sha256=9ee59927a028b32f03ae61dab341070cc0326ff80b380d691ac7e3707973012c\n",
            "  Stored in directory: /tmp/pip-ephem-wheel-cache-_udesxuf/wheels/6d/b6/83/526ac20beb2e8b06c33aea6ac5edf6a07d3de55011bcc35ee8\n",
            "  Building wheel for pycld2 (setup.py) ... \u001b[?25l\u001b[?25hdone\n",
            "  Created wheel for pycld2: filename=pycld2-0.41-cp37-cp37m-linux_x86_64.whl size=9834200 sha256=8f36bdbe8efc362ef0076bd7c7098c2eb03161d80683d3e7df723c0f7c516389\n",
            "  Stored in directory: /root/.cache/pip/wheels/ed/e4/58/ed2e9f43c07d617cc81fe7aff0fc6e42b16c9cf6afe960b614\n",
            "  Building wheel for PyICU (PEP 517) ... \u001b[?25l\u001b[?25hdone\n",
            "  Created wheel for PyICU: filename=PyICU-2.8.1-cp37-cp37m-linux_x86_64.whl size=1375788 sha256=7c2e628d005b1fcbba44ce44fd9d1543165b6ada6ac3a2ef14f9c5ce9d13e1cf\n",
            "  Stored in directory: /root/.cache/pip/wheels/83/60/dc/4f5dffc9027a5912759aabaf918819edacfe3caffd5d31912b\n",
            "Successfully built polyglot pycld2 PyICU\n",
            "Installing collected packages: PyICU, pycld2, morfessor, futures, polyglot\n",
            "Successfully installed PyICU-2.8.1 futures-2.2.0 morfessor-2.0.6 polyglot-16.7.4 pycld2-0.41\n"
          ]
        },
        {
          "output_type": "display_data",
          "data": {
            "application/vnd.colab-display-data+json": {
              "pip_warning": {
                "packages": [
                  "concurrent"
                ]
              }
            }
          },
          "metadata": {}
        }
      ]
    },
    {
      "cell_type": "code",
      "metadata": {
        "id": "JwKo3HzVJ1dS",
        "colab": {
          "base_uri": "https://localhost:8080/"
        },
        "outputId": "149e8794-7055-448a-ed1d-eaad803efe9d"
      },
      "source": [
        "import polyglot\n",
        "from polyglot.text import Text\n",
        "# Baixa o léxicos da lingua portuguesa\n",
        "!polyglot download LANG:pt"
      ],
      "execution_count": null,
      "outputs": [
        {
          "output_type": "stream",
          "name": "stdout",
          "text": [
            "[polyglot_data] Downloading collection 'LANG:pt'\n",
            "[polyglot_data]    | \n",
            "[polyglot_data]    | Downloading package sgns2.pt to\n",
            "[polyglot_data]    |     /root/polyglot_data...\n",
            "[polyglot_data]    | Downloading package unipos.pt to\n",
            "[polyglot_data]    |     /root/polyglot_data...\n",
            "[polyglot_data]    | Downloading package ner2.pt to\n",
            "[polyglot_data]    |     /root/polyglot_data...\n",
            "[polyglot_data]    | Downloading package counts2.pt to\n",
            "[polyglot_data]    |     /root/polyglot_data...\n",
            "[polyglot_data]    | Downloading package transliteration2.pt to\n",
            "[polyglot_data]    |     /root/polyglot_data...\n",
            "[polyglot_data]    | Downloading package embeddings2.pt to\n",
            "[polyglot_data]    |     /root/polyglot_data...\n",
            "[polyglot_data]    | Downloading package uniemb.pt to\n",
            "[polyglot_data]    |     /root/polyglot_data...\n",
            "[polyglot_data]    | Downloading package pos2.pt to\n",
            "[polyglot_data]    |     /root/polyglot_data...\n",
            "[polyglot_data]    | Downloading package sentiment2.pt to\n",
            "[polyglot_data]    |     /root/polyglot_data...\n",
            "[polyglot_data]    | Downloading package tsne2.pt to\n",
            "[polyglot_data]    |     /root/polyglot_data...\n",
            "[polyglot_data]    | Downloading package morph2.pt to\n",
            "[polyglot_data]    |     /root/polyglot_data...\n",
            "[polyglot_data]    | \n",
            "[polyglot_data]  Done downloading collection LANG:pt\n"
          ]
        }
      ]
    },
    {
      "cell_type": "code",
      "metadata": {
        "id": "wG5kUirJBsbf",
        "colab": {
          "base_uri": "https://localhost:8080/"
        },
        "outputId": "dad829ae-c2d5-4e02-f2af-f321a6aa202c"
      },
      "source": [
        "text = Text(\"O filme que vimos é realmente muito bom!\")\n",
        "print(\"{:<16}{}\".format(\"Word\", \"Polarity\")+\"\\n\"+\"-\"*30)\n",
        "for w in text.words:\n",
        "    print(\"{:<16}{:>2}\".format(w, w.polarity))"
      ],
      "execution_count": null,
      "outputs": [
        {
          "output_type": "stream",
          "name": "stdout",
          "text": [
            "Word            Polarity\n",
            "------------------------------\n",
            "O                0\n",
            "filme            0\n",
            "que              0\n",
            "vimos            0\n",
            "é                0\n",
            "realmente        0\n",
            "muito            1\n",
            "bom              1\n",
            "!                0\n"
          ]
        }
      ]
    },
    {
      "cell_type": "code",
      "metadata": {
        "id": "eQyjNvv6B0jl",
        "colab": {
          "base_uri": "https://localhost:8080/"
        },
        "outputId": "19f6f7cb-a4e4-45f0-ddf8-5b88977de42f"
      },
      "source": [
        "text = Text(\"As notas foram ruins.\")\n",
        "print(\"{:<16}{}\".format(\"Word\", \"Polarity\")+\"\\n\"+\"-\"*30)\n",
        "for w in text.words:\n",
        "    print(\"{:<16}{:>2}\".format(w, w.polarity))"
      ],
      "execution_count": null,
      "outputs": [
        {
          "output_type": "stream",
          "name": "stdout",
          "text": [
            "Word            Polarity\n",
            "------------------------------\n",
            "As               0\n",
            "notas            0\n",
            "foram            0\n",
            "ruins           -1\n",
            ".                0\n"
          ]
        }
      ]
    },
    {
      "cell_type": "code",
      "metadata": {
        "id": "uMmi9Pj5Bbx0",
        "colab": {
          "base_uri": "https://localhost:8080/"
        },
        "outputId": "b0b4ba56-69fa-47d5-9341-d8eff280738c"
      },
      "source": [
        "text = Text(\"Não sei o que pensar.\")\n",
        "print(\"{:<16}{}\".format(\"Word\", \"Polarity\")+\"\\n\"+\"-\"*30)\n",
        "for w in text.words:\n",
        "    print(\"{:<16}{:>2}\".format(w, w.polarity))"
      ],
      "execution_count": null,
      "outputs": [
        {
          "output_type": "stream",
          "name": "stdout",
          "text": [
            "Word            Polarity\n",
            "------------------------------\n",
            "Não              0\n",
            "sei              0\n",
            "o                0\n",
            "que              0\n",
            "pensar           0\n",
            ".                0\n"
          ]
        }
      ]
    },
    {
      "cell_type": "markdown",
      "metadata": {
        "id": "Jr_-GSp4J1ko"
      },
      "source": [
        "### **Como obter dados em tempo real de redes sociais?**\n",
        "Já vimos na disciplina que é possível utilizar o web-scraping para obter páginas da web e percorrer a estrutura HTML em busca das informações. Porém, em alguns casos temos opções mais rápidas e viáveis para recolher dados. Alguns sites oferecem o serviço de [API](https://canaltech.com.br/software/o-que-e-api/) para acesso aos dados, onde podemos autenticar e utilizar funções para buscar dados em tempo real.\n",
        "\n",
        "Em nosso exemplo, utilizaremos a [API do Twitter](https://developer.twitter.com/en/docs) para buscar tweets sobre determinado assunto.\n",
        "\n",
        "Neste exemplo, utilizaremos as chaves de acesso da conta do professor, mas quando você for desenvolver seu script, você deve criar seu próprio token de acesso. Basta acessar sua conta no Twitter, na [página do desenvolvedor](https://developer.twitter.com/en/docs) você deve ir em Apps > Create an app.\n"
      ]
    },
    {
      "cell_type": "code",
      "metadata": {
        "id": "YoPjqKLVSVde"
      },
      "source": [
        "import tweepy\n",
        "from tweepy import OAuthHandler\n",
        "\n",
        "# As chaves e tokens que você receberá ao criar um App\n",
        "consumer_key = 'iUpbJiOv2LGFZdRTSqOOFndf7'\n",
        "consumer_secret = 'AVQQS4UcSI6dlRkwO3PdrNo6Iuwl9k5yE4oae18yNvACnhREzs'\n",
        "access_token = '12948382-GTwHQSlj2ylAsMxsm2TT8ecYQ8fUteAfNGTqJutAP'\n",
        "access_token_secret = 'U1HOAmQWkSwfiGEacEqDL59QZ8dvpBhG03yiusjyhtI2M'\n",
        "\n",
        "api = None\n",
        "try:\n",
        "  # Cria um objeto de autenticação (OAuthHandler)\n",
        "  auth = OAuthHandler(consumer_key, consumer_secret)\n",
        "  # Define o token e senha de acesso\n",
        "  auth.set_access_token(access_token, access_token_secret)\n",
        "  # Cria um novo objeto API para acessar os tweets\n",
        "  api = tweepy.API(auth)\n",
        "except:\n",
        "  print(\"Erro: Falha de autenticação no Twitter\")"
      ],
      "execution_count": null,
      "outputs": []
    },
    {
      "cell_type": "markdown",
      "metadata": {
        "id": "EFAxuXHDWjk6"
      },
      "source": [
        "Uma vez que temos um objeto API autenticado, podemos fazer nossas buscas. A API oferecer vários métodos e parâmetros para buscar dados, basta olhar na [documentação da biblioteca tweepy](http://docs.tweepy.org/en/v3.5.0/api.html). Nós iremos utilizar o método **search()**, que funciona de maneira similar a própria caixa de busca no site do Twitter."
      ]
    },
    {
      "cell_type": "code",
      "metadata": {
        "id": "OtpCKyxjWiaH"
      },
      "source": [
        "try:\n",
        "\n",
        "  # Busca até 200 tweets utilizando a query informada\n",
        "  tweets = api.search(q = 'Bolsonaro', count = 200)\n",
        "\n",
        "except tweepy.TweepError as e:\n",
        "  print(\"Erro : \" + str(e))"
      ],
      "execution_count": null,
      "outputs": []
    },
    {
      "cell_type": "markdown",
      "metadata": {
        "id": "NlaLjQiVYnZ-"
      },
      "source": [
        "\n",
        "\n",
        "> **DICA**: Estamos colocando todos trechos do processo entre [blocos try/except](https://docs.python.org/pt-br/3.8/tutorial/errors.html), assim em caso de erro, temos certeza de qual ponto do processo está com problemas.\n",
        "\n"
      ]
    },
    {
      "cell_type": "markdown",
      "metadata": {
        "id": "yPltHhURbZwz"
      },
      "source": [
        "Vamos fazer uma função que através da pontuação de polaridade das palavras do tweet, obtido através do léxico do polyglot, calculamos a polaridade do texto. Utilizaremos uma fórmula bem simples, onde somaremos todas polaridades, se o resultado por positivo o sentimento é positivo, se for zero é neutro, caso menor que zero, negativo."
      ]
    },
    {
      "cell_type": "code",
      "metadata": {
        "id": "lFjtADEBZiaj",
        "colab": {
          "base_uri": "https://localhost:8080/",
          "height": 211
        },
        "outputId": "ebc05783-0b88-45e6-ca2f-c36ee6c03d3e"
      },
      "source": [
        "qtdeTweetsPos = 0\n",
        "qtdeTweetsNeg = 0\n",
        "qtdeTweetsNeu = 0\n",
        "tweets_str_list = []\n",
        "\n",
        "# Percorre os tweets encontrados\n",
        "for tweet in tweets:\n",
        "\n",
        "  #ATENÇÃO: Tenha certeza que já instalou e importou o polyglot acima!\n",
        "  text = Text(tweet.text)\n",
        "\n",
        "  somaP = 0\n",
        "\n",
        "  # Percorre as palavras do tweet\n",
        "  for palavra in text.words:\n",
        "    # Soma polaridade da palavra\n",
        "    somaP += palavra.polarity\n",
        "\n",
        "  # Faz contagem das polaridades\n",
        "  if somaP > 0:\n",
        "    qtdeTweetsPos += 1\n",
        "  elif somaP < 0:\n",
        "    qtdeTweetsNeg += 1\n",
        "  else:\n",
        "    qtdeTweetsNeu += 1\n",
        "\n",
        "  # Imprime o tweet\n",
        "  print(\"Polaridade: \" + str(somaP) + \" >>> \" + tweet.text + \"\\n\")\n",
        "\n",
        "  tweets_str_list.append(tweet.text)"
      ],
      "execution_count": 6,
      "outputs": [
        {
          "output_type": "error",
          "ename": "NameError",
          "evalue": "name 'tweets' is not defined",
          "traceback": [
            "\u001b[0;31m---------------------------------------------------------------------------\u001b[0m",
            "\u001b[0;31mNameError\u001b[0m                                 Traceback (most recent call last)",
            "\u001b[0;32m/tmp/ipython-input-1204395380.py\u001b[0m in \u001b[0;36m<cell line: 0>\u001b[0;34m()\u001b[0m\n\u001b[1;32m      5\u001b[0m \u001b[0;34m\u001b[0m\u001b[0m\n\u001b[1;32m      6\u001b[0m \u001b[0;31m# Percorre os tweets encontrados\u001b[0m\u001b[0;34m\u001b[0m\u001b[0;34m\u001b[0m\u001b[0m\n\u001b[0;32m----> 7\u001b[0;31m \u001b[0;32mfor\u001b[0m \u001b[0mtweet\u001b[0m \u001b[0;32min\u001b[0m \u001b[0mtweets\u001b[0m\u001b[0;34m:\u001b[0m\u001b[0;34m\u001b[0m\u001b[0;34m\u001b[0m\u001b[0m\n\u001b[0m\u001b[1;32m      8\u001b[0m \u001b[0;34m\u001b[0m\u001b[0m\n\u001b[1;32m      9\u001b[0m   \u001b[0;31m#ATENÇÃO: Tenha certeza que já instalou e importou o polyglot acima!\u001b[0m\u001b[0;34m\u001b[0m\u001b[0;34m\u001b[0m\u001b[0m\n",
            "\u001b[0;31mNameError\u001b[0m: name 'tweets' is not defined"
          ]
        }
      ]
    },
    {
      "cell_type": "markdown",
      "metadata": {
        "id": "_lejXh3Cd8jc"
      },
      "source": [
        "> **ATENÇÃO:** As vezes, o polyglot pode identificar de maneira errada o idioma do tweet, e neste caso tentará utilizar um recurso léxico que ainda não foi baixado. Você pode corrigir de duas maneiras, ou usa o try/except e ignora este tweet, ou baixa o léxico dos idiomas envolvidos e deixa que ele calcule de maneira errada mesmo."
      ]
    },
    {
      "cell_type": "code",
      "metadata": {
        "id": "5zoi8re4ea6R"
      },
      "source": [
        "# Você pode fazer download dos léxicos de sentimento de cada idioma separadamente\n",
        "!polyglot download sentiment2.en\n",
        "!polyglot download sentiment2.tr\n",
        "!polyglot download sentiment2.es"
      ],
      "execution_count": null,
      "outputs": []
    },
    {
      "cell_type": "code",
      "metadata": {
        "id": "_sJjSe_sfoQS"
      },
      "source": [
        "# Agora calculamos as porcentagens\n",
        "print(\"POSITIVOS: {}%\".format(100*qtdeTweetsPos/len(tweets)))\n",
        "print(\"NEGATIVOS: {}%\".format(100*qtdeTweetsNeg/len(tweets)))\n",
        "print(\"NEUTROS: {}%\".format(100*qtdeTweetsNeu/len(tweets)))"
      ],
      "execution_count": null,
      "outputs": []
    },
    {
      "cell_type": "code",
      "metadata": {
        "id": "TYgKNCo5hAan"
      },
      "source": [
        "import matplotlib.pyplot as plt\n",
        "\n",
        "# Podemos plotar um gráfico também\n",
        "fig=plt.figure(figsize=(6,6))\n",
        "plt.pie([qtdeTweetsPos, qtdeTweetsNeg, qtdeTweetsNeu],labels=['Positivo', 'Negativo', 'Neutro'],colors=['green', 'red', 'blue'])\n",
        "plt.ylabel('')\n",
        "plt.title('Polaridade',fontsize='18')\n",
        "plt.show()"
      ],
      "execution_count": null,
      "outputs": []
    },
    {
      "cell_type": "markdown",
      "metadata": {
        "id": "1-vK2fPsifmV"
      },
      "source": [
        "Poderíamos também construir uma WordCloud para entender melhor quais as palavras que estão mais associadas ao tema buscado.\n",
        "\n",
        "Para isso iremos remover as stop-words e chamar uma função de WordCloud."
      ]
    },
    {
      "cell_type": "code",
      "metadata": {
        "id": "9SWVSi1Ii0kh"
      },
      "source": [
        "import nltk\n",
        "nltk.download('stopwords')\n",
        "import matplotlib.pyplot as plt\n",
        "from wordcloud import WordCloud\n",
        "\n",
        "stopword= nltk.corpus.stopwords.words('portuguese')\n",
        "\n",
        "# Retiramos ocorrências de links e retweets\n",
        "stopword.append('https')\n",
        "stopword.append('RT')\n",
        "stopword.append('co')\n",
        "\n",
        "# Cria uma única string com todos tweets\n",
        "str_tweets = \" \".join(tweets_str_list)\n",
        "\n",
        "# Gera a wordcloud\n",
        "wordcloud = WordCloud(max_words=2000, max_font_size=90, stopwords=stopword, height=400, width=800).generate(str_tweets)\n",
        "\n",
        "fig = plt.figure(figsize=[20,10])\n",
        "plt.imshow(wordcloud, interpolation=\"bilinear\")\n",
        "plt.axis(\"off\")\n",
        "plt.title('WordCloud Twitter', fontsize='18')\n",
        "plt.show()\n"
      ],
      "execution_count": null,
      "outputs": []
    },
    {
      "cell_type": "markdown",
      "metadata": {
        "id": "3GCzR5LfaEh1"
      },
      "source": [
        "#### Considerações finais\n",
        "Aqui utilizamos uma abordagem BEM simples, baseada em um léxico de polaridade da biblioteca polyglot. Os textos provindos de redes sociais são muito difíceis de processar, o ideal seria uma abordagem mais complexa, de preferência com aprendizado supervisionado, capaz de lidar com algumas características e desafios destes textos:\n",
        "- Uso de gírias\n",
        "- Ausência de regras ortográficas\n",
        "- Uso de símbolos (emojis, hashtags)\n",
        "- Presença de ironia\n",
        "- Uso de hiperlinks\n",
        "- entre outros"
      ]
    },
    {
      "cell_type": "markdown",
      "metadata": {
        "id": "zphAuIXKJik-"
      },
      "source": [
        "#### **Atividade complementar**\n",
        "Você pode deixar o algoritmo mais robusto, ao treinar um classificador utilizando as bases rotuladas de tweets em português, listadas nas referências deste notebook."
      ]
    },
    {
      "cell_type": "markdown",
      "metadata": {
        "id": "LybQY2r1fngp"
      },
      "source": [
        "## Referências e Material complementar\n",
        "\n",
        "* [Portuguese Tweets for Sentiment Analysis - Corpus anotado](https://www.kaggle.com/augustop/portuguese-tweets-for-sentiment-analysis)\n",
        "* [Portuguese Tweets for Sentiment Analysis using nltk and sklearn](https://www.kaggle.com/leonardoassis/portuguese-tweets-nltk-and-sklearn)\n",
        "* [tweetSentBR - Corpus anotado](https://bitbucket.org/HBrum/tweetsentbr/src/master/)\n",
        "* [Anotando um Corpus de Notícias para a Análise de Sentimento: um Relato de Experiência](https://www.aclweb.org/anthology/W15-5616.pdf)\n",
        "* [Twitter Sentiment Analysis using NLTK, Python](https://towardsdatascience.com/twitter-sentiment-analysis-classification-using-nltk-python-fa912578614c)\n",
        "* [Creating The Twitter Sentiment Analysis Program in Python with Naive Bayes Classification](https://towardsdatascience.com/creating-the-twitter-sentiment-analysis-program-in-python-with-naive-bayes-classification-672e5589a7ed)\n",
        "* [Sentiment Analysis with Python (Part 1) - Classifying IMDb Movie Reviews](https://towardsdatascience.com/sentiment-analysis-with-python-part-1-5ce197074184)\n",
        "* [Twitter Developer API](https://developer.twitter.com/en/docs)\n",
        "* [Sentiment Classification using Word Embeddings (Word2Vec)](https://medium.com/swlh/sentiment-classification-using-word-embeddings-word2vec-aedf28fbb8ca)\n",
        "* [Sentiment Analysis on Tweets in Portuguese - Transformer and BERT](https://www.kaggle.com/viniciuscleves/sentiment-analysis-on-tweets-in-portuguese)"
      ]
    },
    {
      "cell_type": "markdown",
      "metadata": {
        "id": "GRIvuhG9NTI9"
      },
      "source": [
        "Esta aula foi inspirada no trabalho do [Prof. Emerson Cabrera Paraiso](http://lattes.cnpq.br/3493899263715892), a quem agradecemos pela permissão de uso de sua [base de dados](https://www.aclweb.org/anthology/W15-5616.pdf)."
      ]
    },
    {
      "cell_type": "markdown",
      "metadata": {
        "id": "Wo22ecMqODv1"
      },
      "source": [
        "Este notebook foi produzido por Prof. [Lucas Oliveira](http://lattes.cnpq.br/3611246009892500)."
      ]
    },
    {
      "cell_type": "markdown",
      "source": [
        "ATIVIDADE 1 -Redução da granularidade dos sentimentos:\n",
        "1. Crie um Dicionário de Mapeamento\n",
        "Este dicionário servirá como a \"regra de tradução\" das emoções antigas para as novas.\n"
      ],
      "metadata": {
        "id": "dcjCPzvnyMij"
      }
    },
    {
      "cell_type": "code",
      "source": [
        "from sklearn.model_selection import train_test_split\n",
        "import nltk\n",
        "from sklearn.pipeline import Pipeline\n",
        "from sklearn.svm import SVC\n",
        "from sklearn.feature_extraction.text import CountVectorizer\n",
        "from sklearn.metrics import classification_report\n",
        "from sklearn.metrics import confusion_matrix\n",
        "\n",
        "mapa_emocoes = {\n",
        "    'alegria': 'positivo',\n",
        "    'raiva': 'negativo',\n",
        "    'medo': 'negativo',\n",
        "    'desgosto': 'negativo',\n",
        "    'tristeza': 'negativo',\n",
        "    'neutro': 'neutro'\n",
        "    # A classe 'surpresa' é intencionalmente omitida para ser filtrada.\n",
        "}\n"
      ],
      "metadata": {
        "id": "y-0kYZ-dympj"
      },
      "execution_count": 9,
      "outputs": []
    },
    {
      "cell_type": "markdown",
      "source": [
        "2. Modifique o Loop de Leitura do Corpus\n",
        "Altere o loop inicial onde você separa os textos e os rótulos. Agora, dentro desse loop, você irá:\n",
        "a. Ignorar as linhas rotuladas como \"surpresa\".\n",
        "b. Usar o mapa_emocoes para converter os rótulos restantes para \"positivo\", \"negativo\" ou \"neutro\"."
      ],
      "metadata": {
        "id": "5_IuWHteyxQc"
      }
    },
    {
      "cell_type": "code",
      "source": [
        "# Abre corpus\n",
        "f = open(\"analise-sentimentos-2000-noticias.txt\", \"r\", encoding=\"utf-8-sig\")\n",
        "linhas = f.readlines()\n",
        "\n",
        "corpus_textos_novo = []\n",
        "corpus_rotulos_novo = []\n",
        "\n",
        "# Dicionário para mapear as 7 emoções para 3 polaridades\n",
        "mapa_emocoes = {\n",
        "    'alegria': 'positivo',\n",
        "    'raiva': 'negativo',\n",
        "    'medo': 'negativo',\n",
        "    'desgosto': 'negativo',\n",
        "    'tristeza': 'negativo',\n",
        "    'neutro': 'neutro'\n",
        "}\n",
        "\n",
        "# Percorre as 2000 linhas para criar o novo corpus\n",
        "for linha in linhas:\n",
        "    # Separa texto e rótulo/categoria/emoção\n",
        "    item = linha.split(\";;\")\n",
        "    rotulo_original = item[0]\n",
        "    texto = item[1]\n",
        "\n",
        "    # Verifica se o rótulo original está no nosso mapa (isso exclui 'surpresa')\n",
        "    if rotulo_original in mapa_emocoes:\n",
        "        # Converte o rótulo para a nova polaridade\n",
        "        novo_rotulo = mapa_emocoes[rotulo_original]\n",
        "\n",
        "        # Adiciona o texto e o novo rótulo às novas listas\n",
        "        corpus_textos_novo.append(texto)\n",
        "        corpus_rotulos_novo.append(novo_rotulo)\n",
        "\n",
        "# Agora, use as NOVAS listas para dividir a base de dados\n",
        "corpus_treinamento, corpus_teste, rotulos_treinamento, rotulos_teste = train_test_split(\n",
        "    corpus_textos_novo,\n",
        "    corpus_rotulos_novo,\n",
        "    test_size=0.10,\n",
        "    random_state=42\n",
        ")\n"
      ],
      "metadata": {
        "id": "MdpYyM5pyyoj"
      },
      "execution_count": 10,
      "outputs": []
    },
    {
      "cell_type": "markdown",
      "source": [
        "3. Ajuste os Rótulos na Avaliação Final\n",
        "A última pequena mudança é na parte de visualização, para que o relatório e a matriz de confusão mostrem os novos nomes das classes.\n",
        "\n",
        "**Nota**: Usei sent_clf.classes_ para garantir que a ordem dos rótulos no gráfico da matriz de confusão seja a mesma que o Scikit-Learn usou internamente, evitando confusão na interpretação do gráfico."
      ],
      "metadata": {
        "id": "Te8b_R2UzEhT"
      }
    },
    {
      "cell_type": "code",
      "source": [
        "import nltk\n",
        "from nltk import tokenize\n",
        "from sklearn.pipeline import Pipeline\n",
        "from sklearn.svm import SVC\n",
        "from sklearn.feature_extraction.text import CountVectorizer\n",
        "from sklearn.metrics import classification_report\n",
        "from sklearn.metrics import confusion_matrix\n",
        "\n",
        "# Download necessary NLTK data if not already present\n",
        "try:\n",
        "    nltk.data.find('corpora/stopwords')\n",
        "except LookupError:\n",
        "    nltk.download('stopwords')\n",
        "try:\n",
        "    nltk.data.find('tokenizers/punkt')\n",
        "except LookupError:\n",
        "    nltk.download('punkt')\n",
        "try:\n",
        "    nltk.data.find('stemmers/rslp')\n",
        "except LookupError:\n",
        "    nltk.download('rslp')\n",
        "try:\n",
        "    nltk.data.find('tokenizers/punkt_tab/portuguese')\n",
        "except LookupError:\n",
        "    nltk.download('punkt_tab')\n",
        "\n",
        "\n",
        "stopwords = nltk.corpus.stopwords.words('portuguese') #carrega stopwords da lingua portuguesa disponíveis no NLTK\n",
        "stopwords += (',','.','(',')','\"',\"'\",'´','`','!','$','%','&','...','-',':',';','?','``','\\'\\'') #acrescenta simbolos\n",
        "stopwords += ('a','e','i','o','u','A','E','I','O','U') #acrescenta também vogais\n",
        "\n",
        "stemmer = nltk.stem.RSLPStemmer()\n",
        "\n",
        "def my_preprocessor(text):\n",
        "\n",
        "    # Normaliza para minúsculas\n",
        "    text=text.lower()\n",
        "\n",
        "    # Tokeniza\n",
        "    words = tokenize.word_tokenize(text, language='portuguese')\n",
        "    # Remove stop-words\n",
        "    words_no_stopwords = [word for word in words if not word in stopwords]\n",
        "    # Aplica stemming\n",
        "    stemmed_words=[stemmer.stem(word=word) for word in words_no_stopwords]\n",
        "    return ' '.join(stemmed_words)\n",
        "\n",
        "\n",
        "# Primeiro aplica o BoW, depois envia dados ao classificador SVM\n",
        "# (SEM retirada de stop-words e stemming)\n",
        "#sent_clf = Pipeline([('vect', CountVectorizer()),('clf', SVC(kernel='linear', C=1))])\n",
        "\n",
        "# Depois de executar uma vez, verifique os resultados e compare-os depois de descomentar a linha abaixo, onde retiramos as stop-words e aplicamos stemming\n",
        "# (COM retirada de stop-words e stemming)\n",
        "sent_clf = Pipeline([('vect', CountVectorizer(preprocessor = my_preprocessor)),('clf', SVC(kernel='linear', C=1))])\n",
        "\n",
        "# Re-train the model with the new corpus and labels\n",
        "sent_clf = sent_clf.fit(corpus_treinamento, rotulos_treinamento)\n",
        "\n",
        "# Prediz base de teste with the updated corpus\n",
        "rotulos_preditos = sent_clf.predict(corpus_teste)\n",
        "\n",
        "# Mostra relatório completo de avaliação\n",
        "print(classification_report(rotulos_teste, rotulos_preditos))\n",
        "\n",
        "# Podemos imprimir a matriz de confusão para tentar entender melhor os resultados\n",
        "mat = confusion_matrix(rotulos_teste, rotulos_preditos)\n",
        "\n",
        "%matplotlib inline\n",
        "import matplotlib.pyplot as plt\n",
        "import seaborn as sns; sns.set()\n",
        "\n",
        "# ATUALIZE OS NOMES DOS RÓTULOS AQUI\n",
        "rotulos_nomes = ['negativo', 'neutro', 'positivo']\n",
        "\n",
        "# Garanta que a ordem dos rótulos no heatmap corresponda à ordem do classification_report\n",
        "# Para isso, podemos pegar a ordem diretamente do classificador treinado\n",
        "rotulos_ordenados = sent_clf.classes_\n",
        "\n",
        "fig, ax = plt.subplots(figsize=(8, 8)) # Tamanho pode ser menor agora\n",
        "sns.heatmap(mat.T, square=True, annot=True, fmt='d', cbar=False,\n",
        "            xticklabels=rotulos_ordenados, yticklabels=rotulos_ordenados)\n",
        "plt.xlabel('Categoria verdadeira')\n",
        "plt.ylabel('Categoria predita');"
      ],
      "metadata": {
        "colab": {
          "base_uri": "https://localhost:8080/",
          "height": 912
        },
        "id": "NXND1X9ozM8N",
        "outputId": "d437d484-8f2c-40a8-e9a1-88601157e736"
      },
      "execution_count": 13,
      "outputs": [
        {
          "output_type": "stream",
          "name": "stderr",
          "text": [
            "[nltk_data] Downloading package punkt_tab to /root/nltk_data...\n",
            "[nltk_data]   Unzipping tokenizers/punkt_tab.zip.\n"
          ]
        },
        {
          "output_type": "stream",
          "name": "stdout",
          "text": [
            "              precision    recall  f1-score   support\n",
            "\n",
            "    negativo       0.86      0.85      0.85       110\n",
            "      neutro       0.66      0.71      0.69        52\n",
            "    positivo       0.64      0.54      0.58        13\n",
            "\n",
            "    accuracy                           0.78       175\n",
            "   macro avg       0.72      0.70      0.71       175\n",
            "weighted avg       0.78      0.78      0.78       175\n",
            "\n"
          ]
        },
        {
          "output_type": "display_data",
          "data": {
            "text/plain": [
              "<Figure size 800x800 with 1 Axes>"
            ],
            "image/png": "[encoded data removed]"
          },
          "metadata": {}
        }
      ]
    },
    {
      "cell_type": "markdown",
      "source": [
        "ATIVIDADE 2 - Configuração dos parâmetros de extração de atributos e do classificador:\n",
        "\n",
        "Vamos alterar dois parâmetros muito importantes e com grande impacto nos resultados:\n",
        "1. No CountVectorizer: Vamos usar o parâmetro **ngram_range**.\n",
        "\n",
        "    ngram_range=(1, 2): Por padrão, o CountVectorizer usa ngram_range=(1, 1), o que significa que ele trata cada palavra individualmente (unigramas). Ao mudar para (1, 2), estamos dizendo ao vetorizador para considerar não apenas as palavras individuais, mas também pares de palavras consecutivas (bigramas).\n",
        "    \n",
        "     * Impacto: Isso é extremamente poderoso para análise de sentimentos! Por exemplo, a palavra \"bom\" é positiva. Mas no bigrama \"não bom\", o sentimento é invertido. Ao incluir bigramas, o modelo pode aprender o significado de combinações de palavras, capturando o contexto de forma muito mais eficaz.\n",
        "\n",
        "2. No SVC (Classificador): Vamos alterar o kernel para '**rbf**', que é um dos mais poderosos e flexíveis.\n",
        "\n",
        "    O kernel é a \"mágica\" do SVM. Ele define como o algoritmo irá criar a fronteira de decisão para separar as classes.\n",
        "\n",
        "     * '**linear**' (o que usamos antes): Tenta separar as classes com uma linha reta (ou um hiperplano em mais dimensões). É rápido e funciona bem para problemas mais simples.\n",
        "      * '**rbf**' (Radial Basis Function): É um kernel não-linear. Ele consegue criar fronteiras de decisão muito mais complexas e curvas. É excelente para problemas onde os dados não são facilmente separáveis por uma linha reta, o que é quase sempre o caso em problemas de texto."
      ],
      "metadata": {
        "id": "paD67Qyc0Aze"
      }
    },
    {
      "cell_type": "code",
      "source": [
        "import pandas as pd\n",
        "import nltk\n",
        "from sklearn.model_selection import train_test_split\n",
        "from sklearn.pipeline import Pipeline\n",
        "from sklearn.svm import SVC\n",
        "from sklearn.feature_extraction.text import CountVectorizer\n",
        "from sklearn.metrics import classification_report, confusion_matrix\n",
        "import matplotlib.pyplot as plt\n",
        "import seaborn as sns\n",
        "\n",
        "# Agora, use as NOVAS listas para dividir a base de dados\n",
        "corpus_treinamento, corpus_teste, rotulos_treinamento, rotulos_teste = train_test_split(\n",
        "    corpus_textos_novo,\n",
        "    corpus_rotulos_novo,\n",
        "    test_size=0.10,\n",
        "    random_state=42\n",
        ")\n",
        "\n",
        "\n",
        "# --- Definição do Pipeline Otimizado ---\n",
        "stopwords_pt = nltk.corpus.stopwords.words('portuguese')\n",
        "\n",
        "sent_clf_otimizado = Pipeline([\n",
        "    ('vect', CountVectorizer(stop_words=stopwords_pt, ngram_range=(1, 2))),\n",
        "    ('clf', SVC(kernel='rbf', C=1.0, gamma='scale', class_weight='balanced'))\n",
        "])\n",
        "\n",
        "\n",
        "# --- Treinamento e Avaliação ---\n",
        "print(\"Iniciando o treinamento do modelo otimizado...\")\n",
        "sent_clf_otimizado.fit(corpus_treinamento, rotulos_treinamento)\n",
        "print(\"Treinamento concluído.\\n\")\n",
        "\n",
        "rotulos_preditos = sent_clf_otimizado.predict(corpus_teste)\n",
        "\n",
        "print(\"--- Relatório de Classificação (Modelo Otimizado com 3 Classes) ---\\n\")\n",
        "print(classification_report(rotulos_teste, rotulos_preditos))\n",
        "\n",
        "print(\"\\n--- Matriz de Confusão ---\\n\")\n",
        "mat = confusion_matrix(rotulos_teste, rotulos_preditos)\n",
        "rotulos_ordenados = sent_clf_otimizado.classes_\n",
        "\n",
        "fig, ax = plt.subplots(figsize=(8, 8))\n",
        "sns.heatmap(mat.T, square=True, annot=True, fmt='d', cbar=False,\n",
        "            xticklabels=rotulos_ordenados, yticklabels=rotulos_ordenados)\n",
        "plt.xlabel('Categoria Verdadeira')\n",
        "plt.ylabel('Categoria Predita')\n",
        "plt.show()\n"
      ],
      "metadata": {
        "colab": {
          "base_uri": "https://localhost:8080/",
          "height": 1000
        },
        "id": "s26eD9aI1RhF",
        "outputId": "430712fe-a1cf-4cc3-83c6-8c01b5a9a5f4"
      },
      "execution_count": 19,
      "outputs": [
        {
          "output_type": "stream",
          "name": "stdout",
          "text": [
            "Iniciando o treinamento do modelo otimizado...\n",
            "Treinamento concluído.\n",
            "\n",
            "--- Relatório de Classificação (Modelo Otimizado com 3 Classes) ---\n",
            "\n",
            "              precision    recall  f1-score   support\n",
            "\n",
            "    negativo       0.83      0.90      0.86       110\n",
            "      neutro       0.74      0.75      0.74        52\n",
            "    positivo       1.00      0.23      0.38        13\n",
            "\n",
            "    accuracy                           0.81       175\n",
            "   macro avg       0.86      0.63      0.66       175\n",
            "weighted avg       0.82      0.81      0.79       175\n",
            "\n",
            "\n",
            "--- Matriz de Confusão ---\n",
            "\n"
          ]
        },
        {
          "output_type": "display_data",
          "data": {
            "text/plain": [
              "<Figure size 800x800 with 1 Axes>"
            ],
            "image/png": "[encoded data removed]"
          },
          "metadata": {}
        }
      ]
    },
    {
      "cell_type": "markdown",
      "source": [
        "ATIVIDADE 3 - Adicione novas etapas de extração de atributos ou de pré-processamento:\n",
        "\n",
        "**Como Incorporar o TF-IDF ao Pipeline**\n",
        "\n",
        "Nosso novo pipeline terá três etapas:\n",
        "1. CountVectorizer: Tokeniza e conta as palavras.\n",
        "2. TfidfTransformer: Pega a matriz de contagem e a transforma em uma matriz de pontuações TF-IDF.\n",
        "3. SVC: Usa a matriz TF-IDF (que é muito mais informativa) para treinar o classificador."
      ],
      "metadata": {
        "id": "-V7xyUb81qi1"
      }
    },
    {
      "cell_type": "code",
      "source": [
        "from sklearn.model_selection import train_test_split\n",
        "from sklearn.pipeline import Pipeline\n",
        "from sklearn.svm import SVC\n",
        "from sklearn.feature_extraction.text import CountVectorizer, TfidfTransformer # Importar o TfidfTransformer\n",
        "from sklearn.metrics import classification_report, confusion_matrix\n",
        "import matplotlib.pyplot as plt\n",
        "import seaborn as sns\n",
        "\n",
        "# Agora, use as NOVAS listas para dividir a base de dados\n",
        "corpus_treinamento, corpus_teste, rotulos_treinamento, rotulos_teste = train_test_split(\n",
        "    corpus_textos_novo,\n",
        "    corpus_rotulos_novo,\n",
        "    test_size=0.10,\n",
        "    random_state=42\n",
        ")\n",
        "\n",
        "\n",
        "# --- Definição do Pipeline Otimizado ---\n",
        "stopwords_pt = nltk.corpus.stopwords.words('portuguese')\n",
        "\n",
        "# Pipeline com 3 etapas: CountVectorizer -> TfidfTransformer -> SVC\n",
        "pipeline_final = Pipeline([\n",
        "    ('vect', CountVectorizer(stop_words=stopwords_pt, ngram_range=(1, 2))),\n",
        "    ('tfidf', TfidfTransformer()), # <-- NOVA ETAPA ADICIONADA\n",
        "    ('clf', SVC(kernel='rbf', C=1.0, gamma='scale', class_\n",
        "                weight='balanced'))\n",
        "])\n",
        "\n",
        "# --- Etapa 4: Treinamento e Avaliação ---\n",
        "print(\"Iniciando o treinamento do modelo final (com TF-IDF)...\")\n",
        "pipeline_final.fit(corpus_treinamento, rotulos_treinamento)\n",
        "print(\"Treinamento concluído.\\n\")\n",
        "\n",
        "rotulos_preditos = pipeline_final.predict(corpus_teste)\n",
        "\n",
        "print(\"--- Relatório de Classificação (Modelo Final com 3 Classes e TF-IDF) ---\\n\")\n",
        "print(classification_report(rotulos_teste, rotulos_preditos))\n",
        "\n",
        "print(\"\\n--- Matriz de Confusão ---\\n\")\n",
        "mat = confusion_matrix(rotulos_teste, rotulos_preditos)\n",
        "rotulos_ordenados = pipeline_final.classes_\n",
        "\n",
        "fig, ax = plt.subplots(figsize=(8, 8))\n",
        "sns.heatmap(mat.T, square=True, annot=True, fmt='d', cbar=False,\n",
        "            xticklabels=rotulos_ordenados, yticklabels=rotulos_ordenados)\n",
        "plt.xlabel('Categoria Verdadeira')\n",
        "plt.ylabel('Categoria Predita')\n",
        "plt.show()\n"
      ],
      "metadata": {
        "colab": {
          "base_uri": "https://localhost:8080/",
          "height": 1000
        },
        "id": "9byM75Ee2bLN",
        "outputId": "2ed1da27-692a-4aa7-e09d-5da3be483ebd"
      },
      "execution_count": 27,
      "outputs": [
        {
          "output_type": "stream",
          "name": "stdout",
          "text": [
            "Iniciando o treinamento do modelo final (com TF-IDF)...\n",
            "Treinamento concluído.\n",
            "\n",
            "--- Relatório de Classificação (Modelo Final com 3 Classes e TF-IDF) ---\n",
            "\n",
            "              precision    recall  f1-score   support\n",
            "\n",
            "    negativo       0.83      0.91      0.87       110\n",
            "      neutro       0.70      0.73      0.72        52\n",
            "    positivo       0.00      0.00      0.00        13\n",
            "\n",
            "    accuracy                           0.79       175\n",
            "   macro avg       0.51      0.55      0.53       175\n",
            "weighted avg       0.73      0.79      0.76       175\n",
            "\n",
            "\n",
            "--- Matriz de Confusão ---\n",
            "\n"
          ]
        },
        {
          "output_type": "stream",
          "name": "stderr",
          "text": [
            "/usr/local/lib/python3.12/dist-packages/sklearn/metrics/_classification.py:1565: UndefinedMetricWarning: Precision is ill-defined and being set to 0.0 in labels with no predicted samples. Use `zero_division` parameter to control this behavior.\n",
            "  _warn_prf(average, modifier, f\"{metric.capitalize()} is\", len(result))\n",
            "/usr/local/lib/python3.12/dist-packages/sklearn/metrics/_classification.py:1565: UndefinedMetricWarning: Precision is ill-defined and being set to 0.0 in labels with no predicted samples. Use `zero_division` parameter to control this behavior.\n",
            "  _warn_prf(average, modifier, f\"{metric.capitalize()} is\", len(result))\n",
            "/usr/local/lib/python3.12/dist-packages/sklearn/metrics/_classification.py:1565: UndefinedMetricWarning: Precision is ill-defined and being set to 0.0 in labels with no predicted samples. Use `zero_division` parameter to control this behavior.\n",
            "  _warn_prf(average, modifier, f\"{metric.capitalize()} is\", len(result))\n"
          ]
        },
        {
          "output_type": "display_data",
          "data": {
            "text/plain": [
              "<Figure size 800x800 with 1 Axes>"
            ],
            "image/png": "[encoded data removed]"
          },
          "metadata": {}
        }
      ]
    },
    {
      "cell_type": "markdown",
      "source": [
        "ATIVIDADE 4 - Utilize outro classificador de texto:\n",
        "\n",
        "Multinomial Naive Bayes (MNB).\n",
        "\n",
        "Feito para Texto: Enquanto o SVC é um classificador de propósito geral, o Multinomial Naive Bayes é um algoritmo clássico e especificamente projetado para classificação de texto com contagens de palavras. Ele funciona muito bem com Bag of Words e TF-IDF.\n",
        "\n",
        "Abordagem Probabilística: Ele funciona com base no Teorema de Bayes. De forma simplista, ele calcula a probabilidade de um documento pertencer a uma classe, dada a frequência das palavras que ele contém. Por exemplo: \"Se um documento tem as palavras 'libertada' e 'alegria', qual a probabilidade de ele ser da classe 'positivo'?\".\n",
        "\n",
        "Sem class_weight: Note que o MultinomialNB não tem o parâmetro class_weight='balanced'. Ele é naturalmente menos sensível ao desbalanceamento de classes do que o SVC, embora o problema ainda possa afetá-lo. Sua natureza probabilística o ajuda a lidar melhor com classes raras."
      ],
      "metadata": {
        "id": "YM_8dG4JlLhC"
      }
    },
    {
      "cell_type": "code",
      "source": [
        "import pandas as pd\n",
        "import nltk\n",
        "import re\n",
        "from sklearn.model_selection import train_test_split\n",
        "from sklearn.pipeline import Pipeline\n",
        "from sklearn.feature_extraction.text import CountVectorizer, TfidfTransformer\n",
        "from sklearn.naive_bayes import MultinomialNB # <-- IMPORTAR O NOVO CLASSIFICADOR\n",
        "from sklearn.metrics import classification_report, confusion_matrix\n",
        "import matplotlib.pyplot as plt\n",
        "import seaborn as sns\n",
        "\n",
        "# --- Bloco de Download (executado apenas se necessário) ---\n",
        "try:\n",
        "    nltk.data.find('corpora/stopwords')\n",
        "    nltk.data.find('tokenizers/punkt')\n",
        "except nltk.downloader.DownloadError:\n",
        "    print(\"Baixando pacotes do NLTK...\")\n",
        "    nltk.download('stopwords')\n",
        "    nltk.download('punkt')\n",
        "\n",
        "\n",
        "\n",
        "# --- Divisão em Treinamento e Teste ---\n",
        "corpus_treinamento, corpus_teste, rotulos_treinamento, rotulos_teste = train_test_split(\n",
        "    corpus_textos_novo,\n",
        "    corpus_rotulos_novo,\n",
        "    test_size=0.10,\n",
        "    random_state=42,\n",
        "    stratify=corpus_rotulos_novo # Mantém a proporção das classes na divisão\n",
        ")\n",
        "\n",
        "# --- Definição do Pipeline com o Novo Classificador ---\n",
        "stopwords_pt = nltk.corpus.stopwords.words('portuguese')\n",
        "\n",
        "# Pipeline com 3 etapas: CountVectorizer -> TfidfTransformer -> MultinomialNB\n",
        "pipeline_naive_bayes = Pipeline([\n",
        "    ('vect', CountVectorizer(stop_words=stopwords_pt, ngram_range=(1, 2))),\n",
        "    ('tfidf', TfidfTransformer()),\n",
        "    # A MUDANÇA ESTÁ AQUI:\n",
        "    ('clf', MultinomialNB())\n",
        "])\n",
        "\n",
        "# --- Treinamento e Avaliação ---\n",
        "print(\"Iniciando o treinamento do modelo Multinomial Naive Bayes...\")\n",
        "pipeline_naive_bayes.fit(corpus_treinamento, rotulos_treinamento)\n",
        "print(\"Treinamento concluído.\\n\")\n",
        "\n",
        "rotulos_preditos = pipeline_naive_bayes.predict(corpus_teste)\n",
        "\n",
        "# ---  Análise dos Resultados ---\n",
        "print(\"--- Relatório de Classificação (TF-IDF + Naive Bayes) ---\\n\")\n",
        "print(classification_report(rotulos_teste, rotulos_preditos))\n",
        "\n",
        "print(\"\\n--- Matriz de Confusão ---\\n\")\n",
        "mat = confusion_matrix(rotulos_teste, rotulos_preditos)\n",
        "rotulos_ordenados = pipeline_naive_bayes.classes_\n",
        "\n",
        "fig, ax = plt.subplots(figsize=(8, 8))\n",
        "sns.heatmap(mat.T, square=True, annot=True, fmt='d', cbar=False,\n",
        "            xticklabels=rotulos_ordenados, yticklabels=rotulos_ordenados)\n",
        "plt.xlabel('Categoria Verdadeira')\n",
        "plt.ylabel('Categoria Predita')\n",
        "plt.show()\n"
      ],
      "metadata": {
        "colab": {
          "base_uri": "https://localhost:8080/",
          "height": 1000
        },
        "id": "Cq8k99M6nDMC",
        "outputId": "314b0e2a-db18-42c2-ed5a-d4f968ff5d30"
      },
      "execution_count": 29,
      "outputs": [
        {
          "output_type": "stream",
          "name": "stdout",
          "text": [
            "Iniciando o treinamento do modelo Multinomial Naive Bayes...\n",
            "Treinamento concluído.\n",
            "\n",
            "--- Relatório de Classificação (TF-IDF + Naive Bayes) ---\n",
            "\n",
            "              precision    recall  f1-score   support\n",
            "\n",
            "    negativo       0.65      0.99      0.78       102\n",
            "      neutro       0.89      0.31      0.47        54\n",
            "    positivo       0.00      0.00      0.00        19\n",
            "\n",
            "    accuracy                           0.67       175\n",
            "   macro avg       0.51      0.44      0.42       175\n",
            "weighted avg       0.65      0.67      0.60       175\n",
            "\n",
            "\n",
            "--- Matriz de Confusão ---\n",
            "\n"
          ]
        },
        {
          "output_type": "stream",
          "name": "stderr",
          "text": [
            "/usr/local/lib/python3.12/dist-packages/sklearn/metrics/_classification.py:1565: UndefinedMetricWarning: Precision is ill-defined and being set to 0.0 in labels with no predicted samples. Use `zero_division` parameter to control this behavior.\n",
            "  _warn_prf(average, modifier, f\"{metric.capitalize()} is\", len(result))\n",
            "/usr/local/lib/python3.12/dist-packages/sklearn/metrics/_classification.py:1565: UndefinedMetricWarning: Precision is ill-defined and being set to 0.0 in labels with no predicted samples. Use `zero_division` parameter to control this behavior.\n",
            "  _warn_prf(average, modifier, f\"{metric.capitalize()} is\", len(result))\n",
            "/usr/local/lib/python3.12/dist-packages/sklearn/metrics/_classification.py:1565: UndefinedMetricWarning: Precision is ill-defined and being set to 0.0 in labels with no predicted samples. Use `zero_division` parameter to control this behavior.\n",
            "  _warn_prf(average, modifier, f\"{metric.capitalize()} is\", len(result))\n"
          ]
        },
        {
          "output_type": "display_data",
          "data": {
            "text/plain": [
              "<Figure size 800x800 with 1 Axes>"
            ],
            "image/png": "[encoded data removed]"
          },
          "metadata": {}
        }
      ]
    }
  ]
}