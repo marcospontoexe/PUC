{
 "cells": [
  {
   "attachments": {},
   "cell_type": "markdown",
   "id": "a8d9f14f-5242-4707-889a-14b80cf55478",
   "metadata": {},
   "source": [
    "# Atividade Somativa 1\n",
    "\n",
    "Para essa atividade foi escolhido o dataset **seoul_bike_data**. Ele contém dados horários sobre o aluguel de bicicletas públicas em Seul, capital da Coreia do Sul, cobrindo um período de um ano (de 1º de dezembro de 2017 a 30 de novembro de 2018). \n",
    "\n",
    "## Visão Geral do Dataset\n",
    "O objetivo principal ao usar este dataset é prever a demanda por bicicletas alugadas (Rented Bike Count) com base nas outras variáveis disponíveis.\n",
    "\n",
    "## Estrutura e Atributos (Colunas)\n",
    "\n",
    "O dataset é composto por 8.760 linhas (24 horas por dia × 365 dias) e 14 colunas. As colunas são:\n",
    "\n",
    "| Nome da Coluna | Descrição | Tipo de Dado | Exemplo |\n",
    "| :--- | :--- | :--- | :--- |\n",
    "| **DateTime** | A data e hora do registro. | Objeto/Texto | 01/12/20172017-01-12 00:00:00 |\n",
    "| **Day** | Dia do registro. | Numérico (Inteiro) | 01|\n",
    "| **Weekday** | Dia da semana. | Numérico (Inteiro) | 7 |\n",
    "| **Hour** | A hora do dia (0 a 23). | Numérico (Inteiro) | 0, 1, 2, ... |\n",
    "| **Rented Bike Count** | **(Variável Alvo)** O número de bicicletas alugadas em uma determinada hora. | Numérico (Inteiro) | 254 |\n",
    "| **Temperature(°C)** | A temperatura em graus Celsius. | Numérico (Float) | -5.2 |\n",
    "| **Humidity(%)** | A umidade relativa do ar em porcentagem. | Numérico (Inteiro) | 37 |\n",
    "| **Wind speed (m/s)** | A velocidade do vento em metros por segundo. | Numérico (Float) | 2.2 |\n",
    "| **Visibility (10m)** | A visibilidade em uma escala de 10 metros (ex: 2000 significa 20km). | Numérico (Inteiro) | 2000 |\n",
    "| **Dew point temp(°C)** | A temperatura do ponto de orvalho em graus Celsius. | Numérico (Float) | -17.6 |\n",
    "| **Solar Radiation (MJ/m2)**| A radiação solar. Geralmente é zero durante a noite. | Numérico (Float) | 0.0 |\n",
    "| **Rainfall(mm)** | A quantidade de chuva em milímetros. | Numérico (Float) | 0.0 |\n",
    "| **Snowfall (cm)** | A quantidade de neve em centímetros. | Numérico (Float) | 0.0 |\n",
    "\n",
    "## Regressão\n",
    "A regressão é usada para prever um valor numérico contínuo, neste caso, o número de bicicletas alugadas.\n",
    "Como se aplica aqui? Você usa os outros atributos (hora, temperatura, umidade, estação do ano, etc.) como features (variáveis de entrada) para treinar um modelo de regressão. O objetivo do modelo é aprender a relação matemática entre essas features e o Rented Bike Count.\n"
   ]
  },
  {
   "cell_type": "code",
   "execution_count": null,
   "id": "3615b522-054b-4ee7-999d-626106cedaca",
   "metadata": {},
   "outputs": [],
   "source": []
  }
 ],
 "metadata": {
  "kernelspec": {
   "display_name": "Python [conda env:base] *",
   "language": "python",
   "name": "conda-base-py"
  },
  "language_info": {
   "codemirror_mode": {
    "name": "ipython",
    "version": 3
   },
   "file_extension": ".py",
   "mimetype": "text/x-python",
   "name": "python",
   "nbconvert_exporter": "python",
   "pygments_lexer": "ipython3",
   "version": "3.13.5"
  }
 },
 "nbformat": 4,
 "nbformat_minor": 5
}
