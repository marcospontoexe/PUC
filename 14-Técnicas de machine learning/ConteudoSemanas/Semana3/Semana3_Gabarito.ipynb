{
 "cells": [
  {
   "cell_type": "markdown",
   "metadata": {},
   "source": [
    "## 1"
   ]
  },
  {
   "cell_type": "code",
   "execution_count": 2,
   "metadata": {},
   "outputs": [
    {
     "name": "stderr",
     "output_type": "stream",
     "text": [
      "C:\\Users\\wmont\\AppData\\Local\\Temp\\ipykernel_25028\\1379264200.py:8: FutureWarning: Downcasting behavior in `replace` is deprecated and will be removed in a future version. To retain the old behavior, explicitly call `result.infer_objects(copy=False)`. To opt-in to the future behavior, set `pd.set_option('future.no_silent_downcasting', True)`\n",
      "  df['diagnosis'] = df['diagnosis'].replace({'B': 0, 'M': 1})\n"
     ]
    },
    {
     "data": {
      "text/plain": [
       "array([0, 0, 0, 0, 1, 0, 0, 0, 0, 0, 0, 0, 0, 0, 0, 0, 0, 0, 0, 1, 1, 0,\n",
       "       0, 0, 1, 0, 0, 1, 0, 0, 0, 1, 0, 1, 0, 1, 0, 1, 0, 0, 0, 0, 1, 0,\n",
       "       0, 0, 0, 0, 0, 1, 1, 0, 1, 1, 0, 0, 0, 0, 0, 1, 0, 0, 0, 0, 0, 0,\n",
       "       1, 0, 0, 0, 0, 1, 0, 0, 1, 0, 0, 0, 0, 0, 0, 0, 0, 0, 0, 1, 0, 1,\n",
       "       1, 0, 0, 1, 0, 0, 0, 0, 0, 0, 0, 0, 0, 0, 0, 0, 1, 0, 0, 0, 1, 0,\n",
       "       0, 1, 0, 0], dtype=int64)"
      ]
     },
     "execution_count": 2,
     "metadata": {},
     "output_type": "execute_result"
    }
   ],
   "source": [
    "import pandas as pd\n",
    "from sklearn.neighbors import KNeighborsClassifier\n",
    "from sklearn.model_selection import train_test_split\n",
    "\n",
    "df = pd.read_csv('wisconsin.csv')\n",
    "\n",
    "# substituindo as letras em números para que o treinamento não dê erros\n",
    "df['diagnosis'] = df['diagnosis'].replace({'B': 0, 'M': 1}) \n",
    "\n",
    "# removendo a última coluna - aparentemente houve algum erro na hora de importá-la\n",
    "df = df.dropna(axis=1)\n",
    "\n",
    "# split entre treinamento e teste\n",
    "X_train, X_test, y_train, y_test = train_test_split(df.drop('diagnosis', axis=1), df['diagnosis'], test_size=0.2, random_state=0)\n",
    "\n",
    "# criando o modelo\n",
    "modelo = KNeighborsClassifier().fit(X_train, y_train)\n",
    "\n",
    "# gerando as predições\n",
    "modelo.predict(X_test)"
   ]
  },
  {
   "cell_type": "markdown",
   "metadata": {},
   "source": [
    "## 2"
   ]
  },
  {
   "cell_type": "code",
   "execution_count": 4,
   "metadata": {},
   "outputs": [
    {
     "data": {
      "text/plain": [
       "array([59.2, 81.5, 76. , 52.2, 62.8, 81. , 58. , 49.5, 44.8, 72.2, 80. ,\n",
       "       74.1, 82. , 65. , 79.1, 47.8, 47.8, 78. , 74.1, 69.5, 76.2, 67. ,\n",
       "       68. , 74.5, 73.6, 65.6, 65.2, 57.9, 82. , 72.2, 72.1, 45.1, 59.6,\n",
       "       73.3, 72.2, 72.4, 74.4, 81.6, 78.7, 58.8, 77.2, 66.2, 79.5, 65.3,\n",
       "       82.3, 81.8, 54.1, 75.2, 74. , 79.8, 59.4, 77. , 54.8, 78.3, 71.2,\n",
       "       88. , 75.3, 78. , 69.4, 68.8, 72.5, 74.3, 71.4, 76.6, 77.8, 81.1,\n",
       "       72.6, 75. , 71.2, 75.5, 68.1, 79.5, 46.2, 81.6, 79.3, 52.8, 74.1,\n",
       "       89. , 65.3, 65.3, 59.1, 76.5, 68.3, 68. , 69. , 64.9, 72.6, 44.8,\n",
       "       64.4, 67.4, 62.8, 75.8, 76.5, 44.8, 73.5, 59.4, 73.5, 58.4, 51.2,\n",
       "       51.2, 47.8, 69. , 73.8, 68.3, 71. , 78.9, 72. , 52.6, 65.5, 61.1,\n",
       "       71.3, 71.6, 76. , 58.6, 72.6, 72.2, 72.4, 67.8, 71.5, 79. , 75.3,\n",
       "       74.7, 56.9, 72.9, 65.9, 65.2, 88. , 66.4, 71.6, 75. , 45.1, 73.4,\n",
       "       79.4, 77.8, 72.9, 80. , 76.2, 72. , 82.1, 63.7, 69.6, 57.5, 73.2,\n",
       "       73.3, 73.6, 82. , 59.6, 75.4, 81.2, 72.2, 67.4, 68.4, 89. , 74.4,\n",
       "       81.3, 57.6, 79.8, 72.4, 77. , 64.2, 81.2, 59.8, 55.6, 74.6, 65. ,\n",
       "       73.2, 76.2, 68.9, 48.4, 76.5, 65.4, 67.5, 66.4, 59.3, 74.6, 79.9,\n",
       "       64.7, 78.8, 69. , 84. , 73. , 65. , 52.8, 75. , 58.4, 68. , 63.4,\n",
       "       65.4, 74.3, 64.6, 49.4, 74.9, 75.3, 72.3, 75. , 68. , 71.8, 55.6,\n",
       "       79. , 54.1, 72.2, 69.6, 72.3, 66.8, 68.6, 75.4, 79.9, 71.9, 77.2,\n",
       "       54.1, 59.3, 66.5, 80. , 79.8, 64.4, 78.7, 73.7, 82. , 64.6, 72. ,\n",
       "       72.1, 68.5, 78. , 67.7, 64.5, 75.5, 72.3, 52.3, 81.1, 59.3, 82. ,\n",
       "       73. , 75. , 72.3, 79.2, 58.1, 74.2, 79.5, 68.1, 87. , 53.6, 81.5,\n",
       "       58. , 72.4, 74.1, 66.4, 76.6, 79.2, 76.4, 81. , 74.5, 67.3, 83. ,\n",
       "       55. , 78.5, 68.3, 72. , 71.6, 76.9, 65. , 75.5, 65.5, 73. , 63.8,\n",
       "       79.8, 76.5, 65.3, 74.8, 46.6, 65.8, 74.5, 69. , 81.2, 55.3, 51.7,\n",
       "       74.5, 69.2, 57.6, 75. , 67.8, 74.2, 62.2, 69.6, 67.3, 71.4, 73.7,\n",
       "       65.1, 72.8, 67.7, 67.9, 69.1, 51. , 64.6, 69.6, 63.7, 53. , 75.1,\n",
       "       72.7, 71.9, 67. , 58. , 74.3, 65. , 71.3, 75.3, 67.7, 69.9, 69.3,\n",
       "       61.4, 82.3, 69.6, 65.1, 64.5, 74.2, 67.3, 68.8, 75.3, 72.7, 51. ,\n",
       "       76.3, 75.6, 75.7, 71.9, 50. , 89. , 73.6, 57.9, 76.6, 74.4, 59.2])"
      ]
     },
     "execution_count": 4,
     "metadata": {},
     "output_type": "execute_result"
    }
   ],
   "source": [
    "import pandas as pd\n",
    "from sklearn.tree import DecisionTreeRegressor\n",
    "from sklearn.model_selection import train_test_split\n",
    "\n",
    "df = pd.read_csv('expectancy.csv')\n",
    "\n",
    "# uma boa sugestão é a de tratar as colunas que são textos (Country e Status)\n",
    "# isto pode ser feito com o LabelEncoder e o OneHotEncoder do scikit-learn\n",
    "# removerei ambas para fins de brevidade do algoritmo\n",
    "df = df.drop(['Country', 'Status'], axis=1)\n",
    "\n",
    "# na disciplina de Preparação e Análise Exploratória de Dados você aprendeu \n",
    "# técnicas de imputação de dados ausentes. Se ainda não passou por lá\n",
    "# faremos somente a remoção de todas as linhas com dados nulos, mas\n",
    "# em bases reais recomendo que você tente ao menos tratar estes dados\n",
    "# ao invés de somente removê-los\n",
    "df = df.dropna()\n",
    "\n",
    "# split entre treinamento e teste\n",
    "X_train, X_test, y_train, y_test = train_test_split(df.drop('Life expectancy ', axis=1), df['Life expectancy '], test_size=0.2, random_state=0)\n",
    "\n",
    "# criando o modelo\n",
    "modelo = DecisionTreeRegressor(random_state=0).fit(X_train, y_train)\n",
    "\n",
    "# gerando as predições\n",
    "modelo.predict(X_test)"
   ]
  },
  {
   "cell_type": "markdown",
   "metadata": {},
   "source": [
    "## 3"
   ]
  },
  {
   "cell_type": "code",
   "execution_count": 6,
   "metadata": {},
   "outputs": [
    {
     "name": "stderr",
     "output_type": "stream",
     "text": [
      "C:\\Users\\wmont\\AppData\\Local\\Temp\\ipykernel_25028\\3643677857.py:8: FutureWarning: Downcasting behavior in `replace` is deprecated and will be removed in a future version. To retain the old behavior, explicitly call `result.infer_objects(copy=False)`. To opt-in to the future behavior, set `pd.set_option('future.no_silent_downcasting', True)`\n",
      "  df['diagnosis'] = df['diagnosis'].replace({'B': 0, 'M': 1})\n"
     ]
    },
    {
     "name": "stdout",
     "output_type": "stream",
     "text": [
      "[LightGBM] [Warning] Found whitespace in feature_names, replace with underlines\n",
      "[LightGBM] [Info] Number of positive: 165, number of negative: 290\n",
      "[LightGBM] [Info] Auto-choosing col-wise multi-threading, the overhead of testing was 0.000649 seconds.\n",
      "You can set `force_col_wise=true` to remove the overhead.\n",
      "[LightGBM] [Info] Total Bins 4700\n",
      "[LightGBM] [Info] Number of data points in the train set: 455, number of used features: 31\n",
      "[LightGBM] [Info] [binary:BoostFromScore]: pavg=0.362637 -> initscore=-0.563935\n",
      "[LightGBM] [Info] Start training from score -0.563935\n",
      "[LightGBM] [Warning] No further splits with positive gain, best gain: -inf\n",
      "[LightGBM] [Warning] No further splits with positive gain, best gain: -inf\n",
      "[LightGBM] [Warning] No further splits with positive gain, best gain: -inf\n",
      "[LightGBM] [Warning] No further splits with positive gain, best gain: -inf\n",
      "[LightGBM] [Warning] No further splits with positive gain, best gain: -inf\n",
      "[LightGBM] [Warning] No further splits with positive gain, best gain: -inf\n",
      "[LightGBM] [Warning] No further splits with positive gain, best gain: -inf\n",
      "[LightGBM] [Warning] No further splits with positive gain, best gain: -inf\n",
      "[LightGBM] [Warning] No further splits with positive gain, best gain: -inf\n",
      "[LightGBM] [Warning] No further splits with positive gain, best gain: -inf\n",
      "[LightGBM] [Warning] No further splits with positive gain, best gain: -inf\n",
      "[LightGBM] [Warning] No further splits with positive gain, best gain: -inf\n",
      "[LightGBM] [Warning] No further splits with positive gain, best gain: -inf\n",
      "[LightGBM] [Warning] No further splits with positive gain, best gain: -inf\n",
      "[LightGBM] [Warning] No further splits with positive gain, best gain: -inf\n",
      "[LightGBM] [Warning] No further splits with positive gain, best gain: -inf\n",
      "[LightGBM] [Warning] No further splits with positive gain, best gain: -inf\n",
      "[LightGBM] [Warning] No further splits with positive gain, best gain: -inf\n",
      "[LightGBM] [Warning] No further splits with positive gain, best gain: -inf\n",
      "[LightGBM] [Warning] No further splits with positive gain, best gain: -inf\n",
      "[LightGBM] [Warning] No further splits with positive gain, best gain: -inf\n",
      "[LightGBM] [Warning] No further splits with positive gain, best gain: -inf\n",
      "[LightGBM] [Warning] No further splits with positive gain, best gain: -inf\n",
      "[LightGBM] [Warning] No further splits with positive gain, best gain: -inf\n",
      "[LightGBM] [Warning] No further splits with positive gain, best gain: -inf\n",
      "[LightGBM] [Warning] No further splits with positive gain, best gain: -inf\n",
      "[LightGBM] [Warning] No further splits with positive gain, best gain: -inf\n",
      "[LightGBM] [Warning] No further splits with positive gain, best gain: -inf\n",
      "[LightGBM] [Warning] No further splits with positive gain, best gain: -inf\n",
      "[LightGBM] [Warning] No further splits with positive gain, best gain: -inf\n",
      "[LightGBM] [Warning] No further splits with positive gain, best gain: -inf\n",
      "[LightGBM] [Warning] No further splits with positive gain, best gain: -inf\n",
      "[LightGBM] [Warning] No further splits with positive gain, best gain: -inf\n",
      "[LightGBM] [Warning] No further splits with positive gain, best gain: -inf\n",
      "[LightGBM] [Warning] No further splits with positive gain, best gain: -inf\n",
      "[LightGBM] [Warning] No further splits with positive gain, best gain: -inf\n",
      "[LightGBM] [Warning] No further splits with positive gain, best gain: -inf\n",
      "[LightGBM] [Warning] No further splits with positive gain, best gain: -inf\n",
      "[LightGBM] [Warning] No further splits with positive gain, best gain: -inf\n",
      "[LightGBM] [Warning] No further splits with positive gain, best gain: -inf\n",
      "[LightGBM] [Warning] No further splits with positive gain, best gain: -inf\n",
      "[LightGBM] [Warning] No further splits with positive gain, best gain: -inf\n",
      "[LightGBM] [Warning] No further splits with positive gain, best gain: -inf\n",
      "[LightGBM] [Warning] No further splits with positive gain, best gain: -inf\n",
      "[LightGBM] [Warning] No further splits with positive gain, best gain: -inf\n",
      "[LightGBM] [Warning] No further splits with positive gain, best gain: -inf\n",
      "[LightGBM] [Warning] No further splits with positive gain, best gain: -inf\n",
      "[LightGBM] [Warning] No further splits with positive gain, best gain: -inf\n",
      "[LightGBM] [Warning] No further splits with positive gain, best gain: -inf\n",
      "[LightGBM] [Warning] No further splits with positive gain, best gain: -inf\n",
      "[LightGBM] [Warning] No further splits with positive gain, best gain: -inf\n",
      "[LightGBM] [Warning] No further splits with positive gain, best gain: -inf\n",
      "[LightGBM] [Warning] No further splits with positive gain, best gain: -inf\n",
      "[LightGBM] [Warning] No further splits with positive gain, best gain: -inf\n",
      "[LightGBM] [Warning] No further splits with positive gain, best gain: -inf\n",
      "[LightGBM] [Warning] No further splits with positive gain, best gain: -inf\n",
      "[LightGBM] [Warning] No further splits with positive gain, best gain: -inf\n",
      "[LightGBM] [Warning] No further splits with positive gain, best gain: -inf\n",
      "[LightGBM] [Warning] No further splits with positive gain, best gain: -inf\n",
      "[LightGBM] [Warning] No further splits with positive gain, best gain: -inf\n",
      "[LightGBM] [Warning] No further splits with positive gain, best gain: -inf\n",
      "[LightGBM] [Warning] No further splits with positive gain, best gain: -inf\n",
      "[LightGBM] [Warning] No further splits with positive gain, best gain: -inf\n",
      "[LightGBM] [Warning] No further splits with positive gain, best gain: -inf\n",
      "[LightGBM] [Warning] No further splits with positive gain, best gain: -inf\n",
      "[LightGBM] [Warning] No further splits with positive gain, best gain: -inf\n",
      "[LightGBM] [Warning] No further splits with positive gain, best gain: -inf\n",
      "[LightGBM] [Warning] No further splits with positive gain, best gain: -inf\n",
      "[LightGBM] [Warning] No further splits with positive gain, best gain: -inf\n",
      "[LightGBM] [Warning] No further splits with positive gain, best gain: -inf\n",
      "[LightGBM] [Warning] No further splits with positive gain, best gain: -inf\n",
      "[LightGBM] [Warning] No further splits with positive gain, best gain: -inf\n",
      "[LightGBM] [Warning] No further splits with positive gain, best gain: -inf\n",
      "[LightGBM] [Warning] No further splits with positive gain, best gain: -inf\n",
      "[LightGBM] [Warning] No further splits with positive gain, best gain: -inf\n",
      "[LightGBM] [Warning] No further splits with positive gain, best gain: -inf\n",
      "[LightGBM] [Warning] No further splits with positive gain, best gain: -inf\n",
      "[LightGBM] [Warning] No further splits with positive gain, best gain: -inf\n",
      "[LightGBM] [Warning] No further splits with positive gain, best gain: -inf\n",
      "[LightGBM] [Warning] No further splits with positive gain, best gain: -inf\n",
      "[LightGBM] [Warning] No further splits with positive gain, best gain: -inf\n",
      "[LightGBM] [Warning] No further splits with positive gain, best gain: -inf\n",
      "[LightGBM] [Warning] No further splits with positive gain, best gain: -inf\n",
      "[LightGBM] [Warning] No further splits with positive gain, best gain: -inf\n",
      "[LightGBM] [Warning] No further splits with positive gain, best gain: -inf\n",
      "[LightGBM] [Warning] No further splits with positive gain, best gain: -inf\n",
      "[LightGBM] [Warning] No further splits with positive gain, best gain: -inf\n",
      "[LightGBM] [Warning] No further splits with positive gain, best gain: -inf\n",
      "[LightGBM] [Warning] No further splits with positive gain, best gain: -inf\n",
      "[LightGBM] [Warning] No further splits with positive gain, best gain: -inf\n",
      "[LightGBM] [Warning] No further splits with positive gain, best gain: -inf\n",
      "[LightGBM] [Warning] No further splits with positive gain, best gain: -inf\n",
      "[LightGBM] [Warning] No further splits with positive gain, best gain: -inf\n",
      "[LightGBM] [Warning] No further splits with positive gain, best gain: -inf\n"
     ]
    },
    {
     "data": {
      "text/plain": [
       "array([1, 0, 0, 0, 0, 0, 0, 0, 0, 0, 0, 0, 0, 0, 0, 1, 0, 1, 1, 1, 1, 1,\n",
       "       0, 0, 1, 0, 0, 1, 0, 1, 0, 1, 0, 1, 0, 1, 0, 1, 0, 1, 0, 0, 0, 0,\n",
       "       0, 1, 0, 0, 0, 1, 1, 1, 1, 0, 0, 0, 0, 0, 0, 1, 1, 1, 0, 0, 1, 0,\n",
       "       1, 1, 1, 0, 1, 1, 0, 1, 1, 0, 0, 0, 0, 0, 1, 1, 1, 0, 1, 0, 0, 0,\n",
       "       1, 1, 0, 1, 0, 1, 0, 0, 1, 0, 0, 0, 0, 0, 0, 0, 1, 0, 1, 0, 1, 1,\n",
       "       0, 1, 1, 0], dtype=int64)"
      ]
     },
     "execution_count": 6,
     "metadata": {},
     "output_type": "execute_result"
    }
   ],
   "source": [
    "import pandas as pd\n",
    "from lightgbm import LGBMClassifier\n",
    "from sklearn.model_selection import train_test_split\n",
    "\n",
    "df = pd.read_csv('wisconsin.csv')\n",
    "\n",
    "# substituindo as letras em números para que o treinamento não dê erros\n",
    "df['diagnosis'] = df['diagnosis'].replace({'B': 0, 'M': 1}) \n",
    "\n",
    "# removendo a última coluna - aparentemente houve algum erro na hora de importá-la\n",
    "df = df.dropna(axis=1)\n",
    "\n",
    "# split entre treinamento e teste\n",
    "X_train, X_test, y_train, y_test = train_test_split(df.drop('diagnosis', axis=1), df['diagnosis'], test_size=0.2, random_state=0)\n",
    "\n",
    "# criando o modelo\n",
    "modelo = LGBMClassifier(random_state=0).fit(X_train, y_train)\n",
    "\n",
    "# gerando as predições\n",
    "modelo.predict(X_test)"
   ]
  },
  {
   "cell_type": "code",
   "execution_count": null,
   "metadata": {},
   "outputs": [],
   "source": []
  }
 ],
 "metadata": {
  "kernelspec": {
   "display_name": "Python 3 (ipykernel)",
   "language": "python",
   "name": "python3"
  },
  "language_info": {
   "codemirror_mode": {
    "name": "ipython",
    "version": 3
   },
   "file_extension": ".py",
   "mimetype": "text/x-python",
   "name": "python",
   "nbconvert_exporter": "python",
   "pygments_lexer": "ipython3",
   "version": "3.12.4"
  }
 },
 "nbformat": 4,
 "nbformat_minor": 4
}
