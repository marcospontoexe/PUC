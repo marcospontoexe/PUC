{
 "cells": [
  {
   "cell_type": "code",
   "execution_count": 1,
   "id": "c7f3c38e-b342-4021-9af6-fd31a3fc9d36",
   "metadata": {},
   "outputs": [
    {
     "name": "stdout",
     "output_type": "stream",
     "text": [
      "Current PATH:\n",
      "E:\\Users\\marcos\\anaconda3;E:\\Users\\marcos\\anaconda3\\Library\\mingw-w64\\bin;E:\\Users\\marcos\\anaconda3\\Library\\usr\\bin;E:\\Users\\marcos\\anaconda3\\Library\\bin;E:\\Users\\marcos\\anaconda3\\Scripts;E:\\Users\\marcos\\anaconda3\\bin;E:\\Users\\marcos\\anaconda3\\condabin;E:\\Users\\marcos\\anaconda3;E:\\Users\\marcos\\anaconda3\\Library\\mingw-w64\\bin;E:\\Users\\marcos\\anaconda3\\Library\\usr\\bin;E:\\Users\\marcos\\anaconda3\\Library\\bin;E:\\Users\\marcos\\anaconda3\\Scripts;C:\\Windows\\system32;C:\\Windows;C:\\Windows\\System32\\Wbem;C:\\Windows\\System32\\WindowsPowerShell\\v1.0;C:\\Windows\\System32\\OpenSSH;C:\\Program Files (x86)\\ATI Technologies\\ATI.ACE\\Core-Static;C:\\Program Files\\dotnet;C:\\Users\\marcos\\AppData\\Local\\Microsoft\\WindowsApps;C:\\Users\\marcos\\AppData\\Local\\GitHubDesktop\\bin;C:\\Users\\marcos\\AppData\\Local\\Programs\\Microsoft VS Code\\bin\n"
     ]
    }
   ],
   "source": [
    "import os\n",
    "import sys\n",
    "\n",
    "# Print current PATH to check if Graphviz is included\n",
    "print(\"Current PATH:\")\n",
    "print(os.environ.get('PATH', ''))\n",
    "\n",
    "# Add Graphviz to PATH (adjust the path based on your installation location)\n",
    "# For Windows (common installation paths)\n",
    "if sys.platform.startswith('win'):\n",
    "    graphviz_paths = [\n",
    "        r'C:\\Program Files\\Graphviz\\bin',\n",
    "        r'C:\\Program Files (x86)\\Graphviz\\bin',\n",
    "        r'C:\\Graphviz\\bin'\n",
    "    ]\n",
    "    \n",
    "    for path in graphviz_paths:\n",
    "        if os.path.exists(path) and path not in os.environ['PATH']:\n",
    "            os.environ['PATH'] += os.pathsep + path\n",
    "            print(f\"Added {path} to PATH\")\n",
    "# For macOS (if installed via Homebrew)\n",
    "elif sys.platform == 'darwin':\n",
    "    if os.path.exists('/usr/local/bin/dot'):\n",
    "        print(\"Graphviz is in /usr/local/bin which should be in PATH\")\n",
    "    elif os.path.exists('/opt/homebrew/bin/dot'):\n",
    "        os.environ['PATH'] += os.pathsep + '/opt/homebrew/bin'\n",
    "        print(\"Added /opt/homebrew/bin to PATH\")\n",
    "# For Linux\n",
    "else:\n",
    "    if os.path.exists('/usr/bin/dot'):\n",
    "        print(\"Graphviz is in /usr/bin which should be in PATH\")\n",
    "\n",
    "# Now try to render the graph again\n",
    "# (You'll need to rerun your original graphviz code after running this)"
   ]
  },
  {
   "cell_type": "code",
   "execution_count": 2,
   "id": "0cbe4fbf-226f-4cbc-82bd-02574b8e6891",
   "metadata": {},
   "outputs": [
    {
     "name": "stdout",
     "output_type": "stream",
     "text": [
      "Current PATH entries:\n",
      "1. E:\\Users\\marcos\\anaconda3\n",
      "2. E:\\Users\\marcos\\anaconda3\\Library\\mingw-w64\\bin\n",
      "3. E:\\Users\\marcos\\anaconda3\\Library\\usr\\bin\n",
      "4. E:\\Users\\marcos\\anaconda3\\Library\\bin\n",
      "5. E:\\Users\\marcos\\anaconda3\\Scripts\n",
      "6. E:\\Users\\marcos\\anaconda3\\bin\n",
      "7. E:\\Users\\marcos\\anaconda3\\condabin\n",
      "8. E:\\Users\\marcos\\anaconda3\n",
      "9. E:\\Users\\marcos\\anaconda3\\Library\\mingw-w64\\bin\n",
      "10. E:\\Users\\marcos\\anaconda3\\Library\\usr\\bin\n",
      "11. E:\\Users\\marcos\\anaconda3\\Library\\bin\n",
      "12. E:\\Users\\marcos\\anaconda3\\Scripts\n",
      "13. C:\\Windows\\system32\n",
      "14. C:\\Windows\n",
      "15. C:\\Windows\\System32\\Wbem\n",
      "16. C:\\Windows\\System32\\WindowsPowerShell\\v1.0\n",
      "17. C:\\Windows\\System32\\OpenSSH\n",
      "18. C:\\Program Files (x86)\\ATI Technologies\\ATI.ACE\\Core-Static\n",
      "19. C:\\Program Files\\dotnet\n",
      "20. C:\\Users\\marcos\\AppData\\Local\\Microsoft\\WindowsApps\n",
      "21. C:\\Users\\marcos\\AppData\\Local\\GitHubDesktop\\bin\n",
      "22. C:\\Users\\marcos\\AppData\\Local\\Programs\\Microsoft VS Code\\bin\n",
      "\n",
      "Analysis:\n",
      "- E:\\Users\\marcos\\anaconda3: ✓ Exists\n",
      "- E:\\Users\\marcos\\anaconda3\\Library\\mingw-w64\\bin: ✗ Does not exist\n",
      "- E:\\Users\\marcos\\anaconda3\\Library\\usr\\bin: ✓ Exists\n",
      "- E:\\Users\\marcos\\anaconda3\\Library\\bin: ✓ Exists\n",
      "- E:\\Users\\marcos\\anaconda3\\Scripts: ✓ Exists\n",
      "- E:\\Users\\marcos\\anaconda3\\bin: ✗ Does not exist\n",
      "- E:\\Users\\marcos\\anaconda3\\condabin: ✓ Exists\n",
      "- E:\\Users\\marcos\\anaconda3: Duplicate entry\n",
      "- E:\\Users\\marcos\\anaconda3\\Library\\mingw-w64\\bin: Duplicate entry\n",
      "- E:\\Users\\marcos\\anaconda3\\Library\\usr\\bin: Duplicate entry\n",
      "- E:\\Users\\marcos\\anaconda3\\Library\\bin: Duplicate entry\n",
      "- E:\\Users\\marcos\\anaconda3\\Scripts: Duplicate entry\n",
      "- C:\\Windows\\system32: ✓ Exists\n",
      "- C:\\Windows: ✓ Exists\n",
      "- C:\\Windows\\System32\\Wbem: ✓ Exists\n",
      "- C:\\Windows\\System32\\WindowsPowerShell\\v1.0: ✓ Exists\n",
      "- C:\\Windows\\System32\\OpenSSH: ✓ Exists\n",
      "- C:\\Program Files (x86)\\ATI Technologies\\ATI.ACE\\Core-Static: ✗ Does not exist\n",
      "- C:\\Program Files\\dotnet: ✓ Exists\n",
      "- C:\\Users\\marcos\\AppData\\Local\\Microsoft\\WindowsApps: ✓ Exists\n",
      "- C:\\Users\\marcos\\AppData\\Local\\GitHubDesktop\\bin: ✓ Exists\n",
      "- C:\\Users\\marcos\\AppData\\Local\\Programs\\Microsoft VS Code\\bin: ✓ Exists\n",
      "\n",
      "Recommended PATH (duplicates removed):\n",
      "E:\\Users\\marcos\\anaconda3;E:\\Users\\marcos\\anaconda3\\Library\\mingw-w64\\bin;E:\\Users\\marcos\\anaconda3\\Library\\usr\\bin;E:\\Users\\marcos\\anaconda3\\Library\\bin;E:\\Users\\marcos\\anaconda3\\Scripts;E:\\Users\\marcos\\anaconda3\\bin;E:\\Users\\marcos\\anaconda3\\condabin;C:\\Windows\\system32;C:\\Windows;C:\\Windows\\System32\\Wbem;C:\\Windows\\System32\\WindowsPowerShell\\v1.0;C:\\Windows\\System32\\OpenSSH;C:\\Program Files (x86)\\ATI Technologies\\ATI.ACE\\Core-Static;C:\\Program Files\\dotnet;C:\\Users\\marcos\\AppData\\Local\\Microsoft\\WindowsApps;C:\\Users\\marcos\\AppData\\Local\\GitHubDesktop\\bin;C:\\Users\\marcos\\AppData\\Local\\Programs\\Microsoft VS Code\\bin\n",
      "\n",
      "To update your PATH permanently:\n",
      "1. Search for 'Edit environment variables for your account' in Windows\n",
      "2. Find the PATH variable and edit it\n",
      "3. Remove duplicate entries\n",
      "4. Click OK to save changes\n"
     ]
    }
   ],
   "source": [
    "import os\n",
    "import sys\n",
    "from collections import OrderedDict\n",
    "\n",
    "# Get current PATH\n",
    "path = os.environ.get('PATH', '')\n",
    "path_entries = path.split(';')\n",
    "\n",
    "# Display current PATH entries\n",
    "print(\"Current PATH entries:\")\n",
    "for i, entry in enumerate(path_entries):\n",
    "    if entry:\n",
    "        print(f\"{i+1}. {entry}\")\n",
    "        \n",
    "# Find duplicates and check if directories exist\n",
    "print(\"\\nAnalysis:\")\n",
    "unique_entries = []\n",
    "seen = set()\n",
    "for entry in path_entries:\n",
    "    if entry and entry not in seen:\n",
    "        seen.add(entry)\n",
    "        unique_entries.append(entry)\n",
    "        exists = os.path.isdir(entry)\n",
    "        print(f\"- {entry}: {'✓ Exists' if exists else '✗ Does not exist'}\")\n",
    "    elif entry:\n",
    "        print(f\"- {entry}: Duplicate entry\")\n",
    "\n",
    "# Create optimized PATH\n",
    "optimized_path = ';'.join(unique_entries)\n",
    "\n",
    "print(\"\\nRecommended PATH (duplicates removed):\")\n",
    "print(optimized_path)\n",
    "\n",
    "# Instructions to update PATH\n",
    "print(\"\\nTo update your PATH permanently:\")\n",
    "print(\"1. Search for 'Edit environment variables for your account' in Windows\")\n",
    "print(\"2. Find the PATH variable and edit it\")\n",
    "print(\"3. Remove duplicate entries\")\n",
    "print(\"4. Click OK to save changes\")"
   ]
  },
  {
   "cell_type": "code",
   "execution_count": 3,
   "id": "4c1b64ca-f471-4766-89f8-43460086680d",
   "metadata": {},
   "outputs": [
    {
     "data": {
      "text/plain": [
       "1"
      ]
     },
     "execution_count": 3,
     "metadata": {},
     "output_type": "execute_result"
    }
   ],
   "source": [
    "1"
   ]
  },
  {
   "cell_type": "code",
   "execution_count": null,
   "id": "1326d08f-6648-4031-975b-9f22f20e32ab",
   "metadata": {},
   "outputs": [],
   "source": []
  }
 ],
 "metadata": {
  "kernelspec": {
   "display_name": "Python [conda env:base] *",
   "language": "python",
   "name": "conda-base-py"
  },
  "language_info": {
   "codemirror_mode": {
    "name": "ipython",
    "version": 3
   },
   "file_extension": ".py",
   "mimetype": "text/x-python",
   "name": "python",
   "nbconvert_exporter": "python",
   "pygments_lexer": "ipython3",
   "version": "3.13.5"
  }
 },
 "nbformat": 4,
 "nbformat_minor": 5
}
